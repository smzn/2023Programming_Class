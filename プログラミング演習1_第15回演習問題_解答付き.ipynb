{
  "nbformat": 4,
  "nbformat_minor": 0,
  "metadata": {
    "colab": {
      "provenance": []
    },
    "kernelspec": {
      "name": "python3",
      "display_name": "Python 3"
    },
    "language_info": {
      "name": "python"
    }
  },
  "cells": [
    {
      "cell_type": "markdown",
      "source": [
        "# 2023年度プログラミング演習1 第15回演習問題\n",
        "\n",
        "回答期限：XXXXXX  \n",
        "提出方法：下記リンクより共有リンクを投稿してください。  \n",
        "\n",
        "　　　　　※閲覧できることを確認してから投稿すること  \n"
      ],
      "metadata": {
        "id": "oDC6zQop_QMA"
      }
    },
    {
      "cell_type": "markdown",
      "source": [
        "## 問1 for文(10点)\n",
        "1から10までの整数を順番に表示するPythonプログラムを作成してください。"
      ],
      "metadata": {
        "id": "zb4L_60-MeRu"
      }
    },
    {
      "cell_type": "code",
      "source": [
        "#ここにコードを書いてください\n",
        "for i in range(10):\n",
        "  print(i+1)"
      ],
      "metadata": {
        "colab": {
          "base_uri": "https://localhost:8080/"
        },
        "id": "9C3cgfWFMkWb",
        "outputId": "8a8e23a2-97b4-44c0-d83e-633621933330"
      },
      "execution_count": null,
      "outputs": [
        {
          "output_type": "stream",
          "name": "stdout",
          "text": [
            "1\n",
            "2\n",
            "3\n",
            "4\n",
            "5\n",
            "6\n",
            "7\n",
            "8\n",
            "9\n",
            "10\n"
          ]
        }
      ]
    },
    {
      "cell_type": "markdown",
      "source": [
        "## 問題2 条件分岐(10点)\n",
        "ユーザーに年齢を入力させ、年齢に応じて以下のようなメッセージを表示するPythonプログラムを作成してください。  \n",
        "18歳未満: \"未成年です。\"  \n",
        "18歳以上: \"成年です。\"  "
      ],
      "metadata": {
        "id": "hNAl13xFMhib"
      }
    },
    {
      "cell_type": "code",
      "source": [
        "#### ヒント ####\n",
        "#ユーザからの入力を待つのはinputを使います\n",
        "input(\"入力してください: \")"
      ],
      "metadata": {
        "colab": {
          "base_uri": "https://localhost:8080/",
          "height": 53
        },
        "id": "kNUN-v-qARvN",
        "outputId": "37fd9501-052f-4984-f120-86c75c4db36b"
      },
      "execution_count": null,
      "outputs": [
        {
          "name": "stdout",
          "output_type": "stream",
          "text": [
            "入力してください: 17\n"
          ]
        },
        {
          "output_type": "execute_result",
          "data": {
            "text/plain": [
              "'17'"
            ],
            "application/vnd.google.colaboratory.intrinsic+json": {
              "type": "string"
            }
          },
          "metadata": {},
          "execution_count": 2
        }
      ]
    },
    {
      "cell_type": "code",
      "source": [
        "#ここにコードを書いてください\n",
        "age = int(input(\"入力してください: \"))\n",
        "if age < 18:\n",
        "  print(\"未成年です。\")\n",
        "else:\n",
        "  print(\"成年です。\" )"
      ],
      "metadata": {
        "colab": {
          "base_uri": "https://localhost:8080/"
        },
        "id": "fj1XtF44MvN8",
        "outputId": "8b88d109-6b97-41f5-b431-79479577a394"
      },
      "execution_count": null,
      "outputs": [
        {
          "output_type": "stream",
          "name": "stdout",
          "text": [
            "入力してください: 18\n",
            "成年です。\n"
          ]
        }
      ]
    },
    {
      "cell_type": "markdown",
      "source": [
        "## 問題3 文字列反転(10点)\n",
        "ユーザーに文字列を入力させ、その文字列を逆転して表示するPythonプログラムを作成してください"
      ],
      "metadata": {
        "id": "GVioPjkgNCfo"
      }
    },
    {
      "cell_type": "code",
      "source": [
        "#ここにコードを書いてください\n",
        "input_string = input(\"文字列を入力してください: \")\n",
        "reversed_string = input_string[::-1]\n",
        "print(\"逆転した文字列:\", reversed_string)"
      ],
      "metadata": {
        "colab": {
          "base_uri": "https://localhost:8080/"
        },
        "id": "xb_ctqkJNPAk",
        "outputId": "2b2c5c8a-c1ae-47f4-b444-d40ea7ef4227"
      },
      "execution_count": null,
      "outputs": [
        {
          "output_type": "stream",
          "name": "stdout",
          "text": [
            "文字列を入力してください: じゅんてんどうだいがく\n",
            "逆転した文字列: くがいだうどんてんゅじ\n"
          ]
        }
      ]
    },
    {
      "cell_type": "markdown",
      "source": [
        "## 問題4 合計、平均、最大値、最小値を計算(10点)\n",
        "ユーザーに10個の整数を入力させ、それらの整数の合計、平均、最大値、最小値を計算して表示するPythonプログラムを作成してください。"
      ],
      "metadata": {
        "id": "vb-YMH5KNT-Z"
      }
    },
    {
      "cell_type": "code",
      "source": [
        "#ここにコードを書いてください\n",
        "numbers = []\n",
        "for i in range(1, 11):\n",
        "    try:\n",
        "        num = int(input(f\"{i}番目の整数を入力してください: \"))\n",
        "        numbers.append(num)\n",
        "    except ValueError:\n",
        "        print(\"整数を入力してください。\")\n",
        "\n",
        "# 合計を計算\n",
        "total = sum(numbers)\n",
        "\n",
        "# 平均を計算\n",
        "average = total / len(numbers)\n",
        "\n",
        "# 最大値を計算\n",
        "maximum = max(numbers)\n",
        "\n",
        "# 最小値を計算\n",
        "minimum = min(numbers)\n",
        "\n",
        "# 結果を表示\n",
        "print(\"入力された整数:\", numbers)\n",
        "print(\"合計:\", total)\n",
        "print(\"平均:\", average)\n",
        "print(\"最大値:\", maximum)\n",
        "print(\"最小値:\", minimum)"
      ],
      "metadata": {
        "colab": {
          "base_uri": "https://localhost:8080/"
        },
        "id": "hkPA-8mrNcG-",
        "outputId": "0ceec613-74c0-4583-c809-c1f62d16d50c"
      },
      "execution_count": null,
      "outputs": [
        {
          "output_type": "stream",
          "name": "stdout",
          "text": [
            "1番目の整数を入力してください: 39\n",
            "2番目の整数を入力してください: 19\n",
            "3番目の整数を入力してください: 48\n",
            "4番目の整数を入力してください: \n",
            "整数を入力してください。\n",
            "5番目の整数を入力してください: 84\n",
            "6番目の整数を入力してください: 2\n",
            "7番目の整数を入力してください: 39\n",
            "8番目の整数を入力してください: 40\n",
            "9番目の整数を入力してください: 92\n",
            "10番目の整数を入力してください: 93\n",
            "入力された整数: [39, 19, 48, 84, 2, 39, 40, 92, 93]\n",
            "合計: 456\n",
            "平均: 50.666666666666664\n",
            "最大値: 93\n",
            "最小値: 2\n"
          ]
        }
      ]
    },
    {
      "cell_type": "markdown",
      "source": [
        "## 問題5 偶数のみ表示(10点)\n",
        "ユーザーに5つの整数を入力させ、それらの整数をリストに格納し、そのリストから偶数だけを取り出して表示するPythonプログラムを作成してください。"
      ],
      "metadata": {
        "id": "7UcpRgi4KhU8"
      }
    },
    {
      "cell_type": "code",
      "source": [
        "# ここにコードを書いてください\n",
        "\n",
        "numbers = []\n",
        "for i in range(5):\n",
        "    num = int(input(f\"{i+1}番目の整数を入力してください: \"))\n",
        "    numbers.append(num)\n",
        "\n",
        "even_numbers = [num for num in numbers if num % 2 == 0]\n",
        "print(\"偶数のリスト:\", even_numbers)\n"
      ],
      "metadata": {
        "colab": {
          "base_uri": "https://localhost:8080/"
        },
        "id": "faPXNDemKl7G",
        "outputId": "3e94a111-5c4b-4d40-f1c9-fa9b66af5f15"
      },
      "execution_count": null,
      "outputs": [
        {
          "output_type": "stream",
          "name": "stdout",
          "text": [
            "1番目の整数を入力してください: 2\n",
            "2番目の整数を入力してください: 42\n",
            "3番目の整数を入力してください: 12\n",
            "4番目の整数を入力してください: 6\n",
            "5番目の整数を入力してください: 51\n",
            "偶数のリスト: [2, 42, 12, 6]\n"
          ]
        }
      ]
    },
    {
      "cell_type": "markdown",
      "source": [
        "## 問題6 九九の表生成しなさい(10点)"
      ],
      "metadata": {
        "id": "cxPedivoPmzu"
      }
    },
    {
      "cell_type": "code",
      "source": [
        "#ここにコードを書いてください\n",
        "for i in range(1,10):\n",
        "  for j in range(1,10):\n",
        "    print('{:2}'.format(i*j) ,end=' ')\n",
        "  print()"
      ],
      "metadata": {
        "colab": {
          "base_uri": "https://localhost:8080/"
        },
        "id": "hf_7YD9KPqlc",
        "outputId": "409134b5-d719-45dd-e9d6-f9c870f6e55f"
      },
      "execution_count": null,
      "outputs": [
        {
          "output_type": "stream",
          "name": "stdout",
          "text": [
            " 1  2  3  4  5  6  7  8  9 \n",
            " 2  4  6  8 10 12 14 16 18 \n",
            " 3  6  9 12 15 18 21 24 27 \n",
            " 4  8 12 16 20 24 28 32 36 \n",
            " 5 10 15 20 25 30 35 40 45 \n",
            " 6 12 18 24 30 36 42 48 54 \n",
            " 7 14 21 28 35 42 49 56 63 \n",
            " 8 16 24 32 40 48 56 64 72 \n",
            " 9 18 27 36 45 54 63 72 81 \n"
          ]
        }
      ]
    },
    {
      "cell_type": "markdown",
      "source": [
        "## 問題7　数当てゲーム(if, whileを使用すること) (20点)\n",
        "1から100までのランダムな整数(乱数)を1つ発生させ、ユーザーがその整数を当てるゲームを作成してください。  \n",
        "・ユーザーは整数を入力し、コンピュータが選んだ整数と比較します。  \n",
        "・コンピュータは「大きすぎる」または「小さすぎる」というヒントを提供します。  \n",
        "・ユーザーが正確な整数を当てるまでゲームは続き、ユーザーが当てた後、ゲームの終了メッセージを表示し、ユーザーに再プレイを尋ねてください。  \n",
        "・また、ユーザーが10回連続で不正解の場合にゲームを終了するオプションも含めてください。  "
      ],
      "metadata": {
        "id": "l3XMZKqS_W5F"
      }
    },
    {
      "cell_type": "code",
      "source": [
        "#ここにプログラムを書いてください\n",
        "\n",
        "import random\n",
        "\n",
        "def main():\n",
        "    play_again = \"はい\"\n",
        "\n",
        "    while play_again.lower() == \"はい\":\n",
        "        target_number = random.randint(1, 100)\n",
        "        attempts = 0\n",
        "        max_attempts = 10\n",
        "\n",
        "        print(\"1から100までの整数を当ててください。\")\n",
        "\n",
        "        while attempts < max_attempts:\n",
        "            user_guess = int(input(f\"試行 {attempts + 1}: 整数を入力してください: \"))\n",
        "            attempts += 1\n",
        "\n",
        "            if user_guess == target_number:\n",
        "                print(f\"正解です！{attempts}回目で当てました。\")\n",
        "                break\n",
        "            elif user_guess < target_number:\n",
        "                print(\"小さすぎます。もう一度試してください。\")\n",
        "            else:\n",
        "                print(\"大きすぎます。もう一度試してください。\")\n",
        "\n",
        "        if attempts == max_attempts:\n",
        "            print(f\"ゲームオーバー。正解は {target_number} でした。\")\n",
        "\n",
        "        play_again = input(\"もう一度プレイしますか？（はい/いいえ）: \")\n",
        "\n",
        "if __name__ == \"__main__\":\n",
        "    main()\n"
      ],
      "metadata": {
        "colab": {
          "base_uri": "https://localhost:8080/"
        },
        "id": "uC1Ybuqg_WKL",
        "outputId": "1c8010ce-a724-4f81-d7ff-1e5eca801e5c"
      },
      "execution_count": null,
      "outputs": [
        {
          "name": "stdout",
          "output_type": "stream",
          "text": [
            "1から100までの整数を当ててください。\n",
            "試行 1: 整数を入力してください: 3\n",
            "小さすぎます。もう一度試してください。\n",
            "試行 2: 整数を入力してください: 10\n",
            "小さすぎます。もう一度試してください。\n",
            "試行 3: 整数を入力してください: 50\n",
            "小さすぎます。もう一度試してください。\n",
            "試行 4: 整数を入力してください: 80\n",
            "大きすぎます。もう一度試してください。\n",
            "試行 5: 整数を入力してください: 70\n",
            "正解です！5回目で当てました。\n",
            "もう一度プレイしますか？（はい/いいえ）: はい\n",
            "1から100までの整数を当ててください。\n",
            "試行 1: 整数を入力してください: 40\n",
            "小さすぎます。もう一度試してください。\n",
            "試行 2: 整数を入力してください: 50\n",
            "大きすぎます。もう一度試してください。\n",
            "試行 3: 整数を入力してください: 46\n",
            "小さすぎます。もう一度試してください。\n",
            "試行 4: 整数を入力してください: 47\n",
            "小さすぎます。もう一度試してください。\n",
            "試行 5: 整数を入力してください: 48\n",
            "小さすぎます。もう一度試してください。\n",
            "試行 6: 整数を入力してください: 49\n",
            "正解です！6回目で当てました。\n",
            "もう一度プレイしますか？（はい/いいえ）: いいえ\n"
          ]
        }
      ]
    },
    {
      "cell_type": "markdown",
      "source": [
        "## 問題8 宇宙ステーションの位置を可視化する(20点)\n",
        "現在の宇宙ステーションの位置情報を返してくれる関数issnowとグラフを可視化する関数mapshowを利用する。  \n",
        "issnow：引数なし、返り値 緯度lat,経度lonの2つ  \n",
        "mapshow：引数 list型の配列2つ(緯度lat,経度lonの順)  \n",
        "  \n",
        "・issnowを5回以上実行する。実行間隔は5秒とし、返り値の結果をlats,lons(ともにlist型)に追加しなさい  \n",
        "・lats,lonsをmapshowに渡し、可視化しなさい"
      ],
      "metadata": {
        "id": "7pk7xyllAynL"
      }
    },
    {
      "cell_type": "code",
      "execution_count": null,
      "metadata": {
        "id": "KhGFqAmG_Mpl"
      },
      "outputs": [],
      "source": [
        "#現在の宇宙ステーションの位置情報を返してくれる関数issnow\n",
        "import requests\n",
        "\n",
        "def issnow():\n",
        "  #宇宙ステーションの位置情報を得るAPIを利用\n",
        "  url = \"http://api.open-notify.org/iss-now.json\"\n",
        "\n",
        "  try:\n",
        "    response = requests.get(url) #APIを実行\n",
        "    response.raise_for_status()  # エラーチェック\n",
        "    data = response.json()  # レスポンスデータをJSON形式で取得\n",
        "    return data['iss_position']['latitude'], data['iss_position']['longitude']#緯度,経度を返す\n",
        "  except requests.exceptions.RequestException as e:#エラーが発生した場合\n",
        "    print(f\"エラーが発生しました: {e}\")\n",
        "    return None, None"
      ]
    },
    {
      "cell_type": "code",
      "source": [
        "#グラフを可視化する関数mapshow\n",
        "import folium #地図上に描画するために使用\n",
        "def mapshow(lats,lons):\n",
        "  # 地図を作成\n",
        "  m = folium.Map(location=[lats[0], lons[0]], zoom_start=6)\n",
        "\n",
        "  # 軌跡を地図上に描画\n",
        "  for lat, lon in zip(lats, lons):\n",
        "      folium.CircleMarker(\n",
        "          location=[lat, lon],\n",
        "          radius=5,\n",
        "          color='blue',\n",
        "          fill=True,\n",
        "          fill_color='blue'\n",
        "      ).add_to(m)\n",
        "\n",
        "  # 地図を表示\n",
        "  return m"
      ],
      "metadata": {
        "id": "WJLBZVjbFta8"
      },
      "execution_count": null,
      "outputs": []
    },
    {
      "cell_type": "code",
      "source": [
        "#### ヒント ####\n",
        "#n秒処理を一時停止するにはtimeをインポートし、下記のようにtime.sleepを使います\n",
        "import time\n",
        "n = 5\n",
        "print(str(n)+'秒間処理を停止します')\n",
        "time.sleep(n) #n秒間処理を停止\n",
        "print(str(n)+'秒経過しました')"
      ],
      "metadata": {
        "colab": {
          "base_uri": "https://localhost:8080/"
        },
        "id": "N0sbaMEIF8tX",
        "outputId": "5bb421f3-3115-47ef-8c84-fb1271ed199b"
      },
      "execution_count": null,
      "outputs": [
        {
          "output_type": "stream",
          "name": "stdout",
          "text": [
            "5秒間処理を停止します\n",
            "5秒経過しました\n"
          ]
        }
      ]
    },
    {
      "cell_type": "code",
      "source": [
        "#ここにコードを記載する\n",
        "\n",
        "import time\n",
        "lats = []\n",
        "lons = []\n",
        "for i in range(10):\n",
        "  lat,lon = issnow()\n",
        "  lats.append(lat)\n",
        "  lons.append(lon)\n",
        "  time.sleep(5)\n",
        "print('lat緯度',lats)\n",
        "print('lon緯度',lons)\n",
        "mapshow(lats,lons)\n"
      ],
      "metadata": {
        "colab": {
          "base_uri": "https://localhost:8080/",
          "height": 1000
        },
        "id": "kznVf30eEK94",
        "outputId": "c6b3acb5-1765-42e5-cc63-f3331d091bcc"
      },
      "execution_count": null,
      "outputs": [
        {
          "output_type": "stream",
          "name": "stdout",
          "text": [
            "lat緯度 ['-8.9399', '-8.6879', '-8.4105', '-8.1329', '-7.8806', '-7.6028', '-7.3502', '-7.0722', '-6.7940', '-6.5412']\n",
            "lon緯度 ['-90.9553', '-90.7705', '-90.5677', '-90.3650', '-90.1811', '-89.9791', '-89.7957', '-89.5943', '-89.3930', '-89.2104']\n"
          ]
        },
        {
          "output_type": "execute_result",
          "data": {
            "text/plain": [
              "<folium.folium.Map at 0x7870383d5e40>"
            ],
            "text/html": [
              "<div style=\"width:100%;\"><div style=\"position:relative;width:100%;height:0;padding-bottom:60%;\"><span style=\"color:#565656\">Make this Notebook Trusted to load map: File -> Trust Notebook</span><iframe srcdoc=\"&lt;!DOCTYPE html&gt;\n",
              "&lt;html&gt;\n",
              "&lt;head&gt;\n",
              "    \n",
              "    &lt;meta http-equiv=&quot;content-type&quot; content=&quot;text/html; charset=UTF-8&quot; /&gt;\n",
              "    \n",
              "        &lt;script&gt;\n",
              "            L_NO_TOUCH = false;\n",
              "            L_DISABLE_3D = false;\n",
              "        &lt;/script&gt;\n",
              "    \n",
              "    &lt;style&gt;html, body {width: 100%;height: 100%;margin: 0;padding: 0;}&lt;/style&gt;\n",
              "    &lt;style&gt;#map {position:absolute;top:0;bottom:0;right:0;left:0;}&lt;/style&gt;\n",
              "    &lt;script src=&quot;https://cdn.jsdelivr.net/npm/leaflet@1.9.3/dist/leaflet.js&quot;&gt;&lt;/script&gt;\n",
              "    &lt;script src=&quot;https://code.jquery.com/jquery-1.12.4.min.js&quot;&gt;&lt;/script&gt;\n",
              "    &lt;script src=&quot;https://cdn.jsdelivr.net/npm/bootstrap@5.2.2/dist/js/bootstrap.bundle.min.js&quot;&gt;&lt;/script&gt;\n",
              "    &lt;script src=&quot;https://cdnjs.cloudflare.com/ajax/libs/Leaflet.awesome-markers/2.0.2/leaflet.awesome-markers.js&quot;&gt;&lt;/script&gt;\n",
              "    &lt;link rel=&quot;stylesheet&quot; href=&quot;https://cdn.jsdelivr.net/npm/leaflet@1.9.3/dist/leaflet.css&quot;/&gt;\n",
              "    &lt;link rel=&quot;stylesheet&quot; href=&quot;https://cdn.jsdelivr.net/npm/bootstrap@5.2.2/dist/css/bootstrap.min.css&quot;/&gt;\n",
              "    &lt;link rel=&quot;stylesheet&quot; href=&quot;https://netdna.bootstrapcdn.com/bootstrap/3.0.0/css/bootstrap.min.css&quot;/&gt;\n",
              "    &lt;link rel=&quot;stylesheet&quot; href=&quot;https://cdn.jsdelivr.net/npm/@fortawesome/fontawesome-free@6.2.0/css/all.min.css&quot;/&gt;\n",
              "    &lt;link rel=&quot;stylesheet&quot; href=&quot;https://cdnjs.cloudflare.com/ajax/libs/Leaflet.awesome-markers/2.0.2/leaflet.awesome-markers.css&quot;/&gt;\n",
              "    &lt;link rel=&quot;stylesheet&quot; href=&quot;https://cdn.jsdelivr.net/gh/python-visualization/folium/folium/templates/leaflet.awesome.rotate.min.css&quot;/&gt;\n",
              "    \n",
              "            &lt;meta name=&quot;viewport&quot; content=&quot;width=device-width,\n",
              "                initial-scale=1.0, maximum-scale=1.0, user-scalable=no&quot; /&gt;\n",
              "            &lt;style&gt;\n",
              "                #map_b7550b243d7c34fb180fc74e367fb511 {\n",
              "                    position: relative;\n",
              "                    width: 100.0%;\n",
              "                    height: 100.0%;\n",
              "                    left: 0.0%;\n",
              "                    top: 0.0%;\n",
              "                }\n",
              "                .leaflet-container { font-size: 1rem; }\n",
              "            &lt;/style&gt;\n",
              "        \n",
              "&lt;/head&gt;\n",
              "&lt;body&gt;\n",
              "    \n",
              "    \n",
              "            &lt;div class=&quot;folium-map&quot; id=&quot;map_b7550b243d7c34fb180fc74e367fb511&quot; &gt;&lt;/div&gt;\n",
              "        \n",
              "&lt;/body&gt;\n",
              "&lt;script&gt;\n",
              "    \n",
              "    \n",
              "            var map_b7550b243d7c34fb180fc74e367fb511 = L.map(\n",
              "                &quot;map_b7550b243d7c34fb180fc74e367fb511&quot;,\n",
              "                {\n",
              "                    center: [-8.9399, -90.9553],\n",
              "                    crs: L.CRS.EPSG3857,\n",
              "                    zoom: 6,\n",
              "                    zoomControl: true,\n",
              "                    preferCanvas: false,\n",
              "                }\n",
              "            );\n",
              "\n",
              "            \n",
              "\n",
              "        \n",
              "    \n",
              "            var tile_layer_30ef2a8be797a2e91ed9eaba6dad051d = L.tileLayer(\n",
              "                &quot;https://{s}.tile.openstreetmap.org/{z}/{x}/{y}.png&quot;,\n",
              "                {&quot;attribution&quot;: &quot;Data by \\u0026copy; \\u003ca target=\\&quot;_blank\\&quot; href=\\&quot;http://openstreetmap.org\\&quot;\\u003eOpenStreetMap\\u003c/a\\u003e, under \\u003ca target=\\&quot;_blank\\&quot; href=\\&quot;http://www.openstreetmap.org/copyright\\&quot;\\u003eODbL\\u003c/a\\u003e.&quot;, &quot;detectRetina&quot;: false, &quot;maxNativeZoom&quot;: 18, &quot;maxZoom&quot;: 18, &quot;minZoom&quot;: 0, &quot;noWrap&quot;: false, &quot;opacity&quot;: 1, &quot;subdomains&quot;: &quot;abc&quot;, &quot;tms&quot;: false}\n",
              "            ).addTo(map_b7550b243d7c34fb180fc74e367fb511);\n",
              "        \n",
              "    \n",
              "            var circle_marker_e937d6cf42c1cbfc881d83c72225fe67 = L.circleMarker(\n",
              "                [-8.9399, -90.9553],\n",
              "                {&quot;bubblingMouseEvents&quot;: true, &quot;color&quot;: &quot;blue&quot;, &quot;dashArray&quot;: null, &quot;dashOffset&quot;: null, &quot;fill&quot;: true, &quot;fillColor&quot;: &quot;blue&quot;, &quot;fillOpacity&quot;: 0.2, &quot;fillRule&quot;: &quot;evenodd&quot;, &quot;lineCap&quot;: &quot;round&quot;, &quot;lineJoin&quot;: &quot;round&quot;, &quot;opacity&quot;: 1.0, &quot;radius&quot;: 5, &quot;stroke&quot;: true, &quot;weight&quot;: 3}\n",
              "            ).addTo(map_b7550b243d7c34fb180fc74e367fb511);\n",
              "        \n",
              "    \n",
              "            var circle_marker_4531a047e7d184be2be64528db68b06a = L.circleMarker(\n",
              "                [-8.6879, -90.7705],\n",
              "                {&quot;bubblingMouseEvents&quot;: true, &quot;color&quot;: &quot;blue&quot;, &quot;dashArray&quot;: null, &quot;dashOffset&quot;: null, &quot;fill&quot;: true, &quot;fillColor&quot;: &quot;blue&quot;, &quot;fillOpacity&quot;: 0.2, &quot;fillRule&quot;: &quot;evenodd&quot;, &quot;lineCap&quot;: &quot;round&quot;, &quot;lineJoin&quot;: &quot;round&quot;, &quot;opacity&quot;: 1.0, &quot;radius&quot;: 5, &quot;stroke&quot;: true, &quot;weight&quot;: 3}\n",
              "            ).addTo(map_b7550b243d7c34fb180fc74e367fb511);\n",
              "        \n",
              "    \n",
              "            var circle_marker_251cad496569f00c74a157f7a9469b0d = L.circleMarker(\n",
              "                [-8.4105, -90.5677],\n",
              "                {&quot;bubblingMouseEvents&quot;: true, &quot;color&quot;: &quot;blue&quot;, &quot;dashArray&quot;: null, &quot;dashOffset&quot;: null, &quot;fill&quot;: true, &quot;fillColor&quot;: &quot;blue&quot;, &quot;fillOpacity&quot;: 0.2, &quot;fillRule&quot;: &quot;evenodd&quot;, &quot;lineCap&quot;: &quot;round&quot;, &quot;lineJoin&quot;: &quot;round&quot;, &quot;opacity&quot;: 1.0, &quot;radius&quot;: 5, &quot;stroke&quot;: true, &quot;weight&quot;: 3}\n",
              "            ).addTo(map_b7550b243d7c34fb180fc74e367fb511);\n",
              "        \n",
              "    \n",
              "            var circle_marker_0332bc42b8bf2d874b8eb83779ed45b5 = L.circleMarker(\n",
              "                [-8.1329, -90.365],\n",
              "                {&quot;bubblingMouseEvents&quot;: true, &quot;color&quot;: &quot;blue&quot;, &quot;dashArray&quot;: null, &quot;dashOffset&quot;: null, &quot;fill&quot;: true, &quot;fillColor&quot;: &quot;blue&quot;, &quot;fillOpacity&quot;: 0.2, &quot;fillRule&quot;: &quot;evenodd&quot;, &quot;lineCap&quot;: &quot;round&quot;, &quot;lineJoin&quot;: &quot;round&quot;, &quot;opacity&quot;: 1.0, &quot;radius&quot;: 5, &quot;stroke&quot;: true, &quot;weight&quot;: 3}\n",
              "            ).addTo(map_b7550b243d7c34fb180fc74e367fb511);\n",
              "        \n",
              "    \n",
              "            var circle_marker_75da90da9a44dfad51ec315cf66750d0 = L.circleMarker(\n",
              "                [-7.8806, -90.1811],\n",
              "                {&quot;bubblingMouseEvents&quot;: true, &quot;color&quot;: &quot;blue&quot;, &quot;dashArray&quot;: null, &quot;dashOffset&quot;: null, &quot;fill&quot;: true, &quot;fillColor&quot;: &quot;blue&quot;, &quot;fillOpacity&quot;: 0.2, &quot;fillRule&quot;: &quot;evenodd&quot;, &quot;lineCap&quot;: &quot;round&quot;, &quot;lineJoin&quot;: &quot;round&quot;, &quot;opacity&quot;: 1.0, &quot;radius&quot;: 5, &quot;stroke&quot;: true, &quot;weight&quot;: 3}\n",
              "            ).addTo(map_b7550b243d7c34fb180fc74e367fb511);\n",
              "        \n",
              "    \n",
              "            var circle_marker_8dbf5ad73703b995e6f2de83c7e91618 = L.circleMarker(\n",
              "                [-7.6028, -89.9791],\n",
              "                {&quot;bubblingMouseEvents&quot;: true, &quot;color&quot;: &quot;blue&quot;, &quot;dashArray&quot;: null, &quot;dashOffset&quot;: null, &quot;fill&quot;: true, &quot;fillColor&quot;: &quot;blue&quot;, &quot;fillOpacity&quot;: 0.2, &quot;fillRule&quot;: &quot;evenodd&quot;, &quot;lineCap&quot;: &quot;round&quot;, &quot;lineJoin&quot;: &quot;round&quot;, &quot;opacity&quot;: 1.0, &quot;radius&quot;: 5, &quot;stroke&quot;: true, &quot;weight&quot;: 3}\n",
              "            ).addTo(map_b7550b243d7c34fb180fc74e367fb511);\n",
              "        \n",
              "    \n",
              "            var circle_marker_385ee919bd52d997f08cc3cd6c572ad2 = L.circleMarker(\n",
              "                [-7.3502, -89.7957],\n",
              "                {&quot;bubblingMouseEvents&quot;: true, &quot;color&quot;: &quot;blue&quot;, &quot;dashArray&quot;: null, &quot;dashOffset&quot;: null, &quot;fill&quot;: true, &quot;fillColor&quot;: &quot;blue&quot;, &quot;fillOpacity&quot;: 0.2, &quot;fillRule&quot;: &quot;evenodd&quot;, &quot;lineCap&quot;: &quot;round&quot;, &quot;lineJoin&quot;: &quot;round&quot;, &quot;opacity&quot;: 1.0, &quot;radius&quot;: 5, &quot;stroke&quot;: true, &quot;weight&quot;: 3}\n",
              "            ).addTo(map_b7550b243d7c34fb180fc74e367fb511);\n",
              "        \n",
              "    \n",
              "            var circle_marker_f5e9a2780d7809e9eccd5cae729a3093 = L.circleMarker(\n",
              "                [-7.0722, -89.5943],\n",
              "                {&quot;bubblingMouseEvents&quot;: true, &quot;color&quot;: &quot;blue&quot;, &quot;dashArray&quot;: null, &quot;dashOffset&quot;: null, &quot;fill&quot;: true, &quot;fillColor&quot;: &quot;blue&quot;, &quot;fillOpacity&quot;: 0.2, &quot;fillRule&quot;: &quot;evenodd&quot;, &quot;lineCap&quot;: &quot;round&quot;, &quot;lineJoin&quot;: &quot;round&quot;, &quot;opacity&quot;: 1.0, &quot;radius&quot;: 5, &quot;stroke&quot;: true, &quot;weight&quot;: 3}\n",
              "            ).addTo(map_b7550b243d7c34fb180fc74e367fb511);\n",
              "        \n",
              "    \n",
              "            var circle_marker_fe37497ed8765a71630d4b7ab7267aac = L.circleMarker(\n",
              "                [-6.794, -89.393],\n",
              "                {&quot;bubblingMouseEvents&quot;: true, &quot;color&quot;: &quot;blue&quot;, &quot;dashArray&quot;: null, &quot;dashOffset&quot;: null, &quot;fill&quot;: true, &quot;fillColor&quot;: &quot;blue&quot;, &quot;fillOpacity&quot;: 0.2, &quot;fillRule&quot;: &quot;evenodd&quot;, &quot;lineCap&quot;: &quot;round&quot;, &quot;lineJoin&quot;: &quot;round&quot;, &quot;opacity&quot;: 1.0, &quot;radius&quot;: 5, &quot;stroke&quot;: true, &quot;weight&quot;: 3}\n",
              "            ).addTo(map_b7550b243d7c34fb180fc74e367fb511);\n",
              "        \n",
              "    \n",
              "            var circle_marker_aa05739f11f0256794fcfefdcea5a9bc = L.circleMarker(\n",
              "                [-6.5412, -89.2104],\n",
              "                {&quot;bubblingMouseEvents&quot;: true, &quot;color&quot;: &quot;blue&quot;, &quot;dashArray&quot;: null, &quot;dashOffset&quot;: null, &quot;fill&quot;: true, &quot;fillColor&quot;: &quot;blue&quot;, &quot;fillOpacity&quot;: 0.2, &quot;fillRule&quot;: &quot;evenodd&quot;, &quot;lineCap&quot;: &quot;round&quot;, &quot;lineJoin&quot;: &quot;round&quot;, &quot;opacity&quot;: 1.0, &quot;radius&quot;: 5, &quot;stroke&quot;: true, &quot;weight&quot;: 3}\n",
              "            ).addTo(map_b7550b243d7c34fb180fc74e367fb511);\n",
              "        \n",
              "&lt;/script&gt;\n",
              "&lt;/html&gt;\" style=\"position:absolute;width:100%;height:100%;left:0;top:0;border:none !important;\" allowfullscreen webkitallowfullscreen mozallowfullscreen></iframe></div></div>"
            ]
          },
          "metadata": {},
          "execution_count": 16
        }
      ]
    },
    {
      "cell_type": "code",
      "source": [],
      "metadata": {
        "id": "iW_Blj51QWHv"
      },
      "execution_count": null,
      "outputs": []
    }
  ]
}