{
  "cells": [
    {
      "cell_type": "markdown",
      "metadata": {
        "id": "oDC6zQop_QMA"
      },
      "source": [
        "# 2023年度プログラミング演習1 第15回演習問題\n",
        "\n",
        "回答期限： 2024/01/24 23:59  \n",
        "提出方法：下記リンクよりファイルをアップロードしてください。  \n",
        "60点以上でこの課題は合格ですが高得点を目指して頑張ってください。  \n",
        "\n",
        "　　　　　※閲覧できることを確認してから投稿すること  \n",
        "　　　　　※下記に学籍番号名前を記載すること  "
      ]
    },
    {
      "cell_type": "markdown",
      "metadata": {},
      "source": [
        "学籍番号：  \n",
        "名前：  "
      ]
    },
    {
      "cell_type": "markdown",
      "metadata": {
        "id": "zb4L_60-MeRu"
      },
      "source": [
        "## 問1 for文(10点)\n",
        "1から10までの整数を順番に表示するPythonプログラムを作成してください。"
      ]
    },
    {
      "cell_type": "code",
      "execution_count": null,
      "metadata": {
        "colab": {
          "base_uri": "https://localhost:8080/"
        },
        "id": "9C3cgfWFMkWb",
        "outputId": "45f77fe8-8fa4-404f-8511-e3a66950e5df"
      },
      "outputs": [
        {
          "name": "stdout",
          "output_type": "stream",
          "text": [
            "出力例\n",
            "1\n",
            "2\n",
            "3\n",
            "4\n",
            "5\n",
            "6\n",
            "7\n",
            "8\n",
            "9\n",
            "10\n"
          ]
        }
      ],
      "source": [
        "#ここにコードを書いてください\n"
      ]
    },
    {
      "cell_type": "markdown",
      "metadata": {
        "id": "hNAl13xFMhib"
      },
      "source": [
        "## 問題2 条件分岐(10点)\n",
        "ユーザーに年齢を入力させ、年齢に応じて以下のようなメッセージを表示するPythonプログラムを作成してください。  \n",
        "18歳未満: \"未成年です。\"  \n",
        "18歳以上: \"成年です。\"  "
      ]
    },
    {
      "cell_type": "code",
      "execution_count": null,
      "metadata": {
        "colab": {
          "base_uri": "https://localhost:8080/",
          "height": 53
        },
        "id": "kNUN-v-qARvN",
        "outputId": "8baa5361-fe88-468d-b8d1-557afd20f776"
      },
      "outputs": [
        {
          "name": "stdout",
          "output_type": "stream",
          "text": [
            "入力してください: １８\n"
          ]
        },
        {
          "data": {
            "application/vnd.google.colaboratory.intrinsic+json": {
              "type": "string"
            },
            "text/plain": [
              "'１８'"
            ]
          },
          "execution_count": 4,
          "metadata": {},
          "output_type": "execute_result"
        }
      ],
      "source": [
        "#### ヒント ####\n",
        "#ユーザからの入力を待つのはinputを使います\n",
        "input(\"入力してください: \")"
      ]
    },
    {
      "cell_type": "code",
      "execution_count": null,
      "metadata": {
        "colab": {
          "base_uri": "https://localhost:8080/"
        },
        "id": "fj1XtF44MvN8",
        "outputId": "924486b3-d61d-4fc9-c96d-a28cdb1e5c11"
      },
      "outputs": [
        {
          "name": "stdout",
          "output_type": "stream",
          "text": [
            "入力してください: 18\n",
            "成年です。\n"
          ]
        }
      ],
      "source": [
        "#ここにコードを書いてください\n"
      ]
    },
    {
      "cell_type": "markdown",
      "metadata": {
        "id": "GVioPjkgNCfo"
      },
      "source": [
        "## 問題3 文字列反転(10点)\n",
        "ユーザーに文字列を入力させ、その文字列を逆転して表示するPythonプログラムを作成してください"
      ]
    },
    {
      "cell_type": "code",
      "execution_count": null,
      "metadata": {
        "colab": {
          "base_uri": "https://localhost:8080/"
        },
        "id": "xb_ctqkJNPAk",
        "outputId": "49684292-ff1e-4b7f-f78a-df56460b59ba"
      },
      "outputs": [
        {
          "name": "stdout",
          "output_type": "stream",
          "text": [
            "文字列を入力してください: juntendo\n",
            "逆転した文字列: odnetnuj\n"
          ]
        }
      ],
      "source": [
        "#ここにコードを書いてください\n"
      ]
    },
    {
      "cell_type": "markdown",
      "metadata": {
        "id": "vb-YMH5KNT-Z"
      },
      "source": [
        "## 問題4 合計、平均、最大値、最小値を計算(10点)\n",
        "ユーザーに10個の整数を入力させ、それらの整数の合計、平均、最大値、最小値を計算して表示するPythonプログラムを作成してください。"
      ]
    },
    {
      "cell_type": "code",
      "execution_count": null,
      "metadata": {
        "colab": {
          "base_uri": "https://localhost:8080/"
        },
        "id": "hkPA-8mrNcG-",
        "outputId": "07e0865a-d7b3-40ce-ec9f-9e5341242959"
      },
      "outputs": [
        {
          "name": "stdout",
          "output_type": "stream",
          "text": [
            "1番目の整数を入力してください: 20\n",
            "2番目の整数を入力してください: 30\n",
            "3番目の整数を入力してください: 43\n",
            "4番目の整数を入力してください: 21\n",
            "5番目の整数を入力してください: 53\n",
            "6番目の整数を入力してください: 65\n",
            "7番目の整数を入力してください: 45\n",
            "8番目の整数を入力してください: 23\n",
            "9番目の整数を入力してください: 68\n",
            "10番目の整数を入力してください: 10\n",
            "入力された整数: [20, 30, 43, 21, 53, 65, 45, 23, 68, 10]\n",
            "合計: 378\n",
            "平均: 37.8\n",
            "最大値: 68\n",
            "最小値: 10\n"
          ]
        }
      ],
      "source": [
        "#ここにコードを書いてください\n"
      ]
    },
    {
      "cell_type": "markdown",
      "metadata": {
        "id": "7UcpRgi4KhU8"
      },
      "source": [
        "## 問題5 偶数のみ表示(10点)\n",
        "ユーザーに5つの整数を入力させ、それらの整数をリストに格納し、そのリストから偶数だけを取り出して表示するPythonプログラムを作成してください。"
      ]
    },
    {
      "cell_type": "code",
      "execution_count": null,
      "metadata": {
        "colab": {
          "base_uri": "https://localhost:8080/"
        },
        "id": "faPXNDemKl7G",
        "outputId": "e552e2df-cc8f-4618-fd2c-1f9d173b38f7"
      },
      "outputs": [
        {
          "name": "stdout",
          "output_type": "stream",
          "text": [
            "1番目の整数を入力してください: 3\n",
            "2番目の整数を入力してください: 4\n",
            "3番目の整数を入力してください: 6\n",
            "4番目の整数を入力してください: 5\n",
            "5番目の整数を入力してください: 1\n",
            "偶数のリスト: [4, 6]\n"
          ]
        }
      ],
      "source": [
        "# ここにコードを書いてください\n",
        "\n"
      ]
    },
    {
      "cell_type": "markdown",
      "metadata": {
        "id": "cxPedivoPmzu"
      },
      "source": [
        "## 問題6 九九の表生成しなさい(10点)"
      ]
    },
    {
      "cell_type": "code",
      "execution_count": null,
      "metadata": {
        "colab": {
          "base_uri": "https://localhost:8080/"
        },
        "id": "hf_7YD9KPqlc",
        "outputId": "b89088e8-8cc3-4526-d7df-cca9b67149f7"
      },
      "outputs": [
        {
          "name": "stdout",
          "output_type": "stream",
          "text": [
            " 1  2  3  4  5  6  7  8  9 \n",
            " 2  4  6  8 10 12 14 16 18 \n",
            " 3  6  9 12 15 18 21 24 27 \n",
            " 4  8 12 16 20 24 28 32 36 \n",
            " 5 10 15 20 25 30 35 40 45 \n",
            " 6 12 18 24 30 36 42 48 54 \n",
            " 7 14 21 28 35 42 49 56 63 \n",
            " 8 16 24 32 40 48 56 64 72 \n",
            " 9 18 27 36 45 54 63 72 81 \n"
          ]
        }
      ],
      "source": [
        "#ここにコードを書いてください\n"
      ]
    },
    {
      "cell_type": "markdown",
      "metadata": {
        "id": "l3XMZKqS_W5F"
      },
      "source": [
        "## 問題7　数当てゲーム(if, whileを使用すること) (20点)\n",
        "1から100までのランダムな整数(乱数)を1つ発生させ、ユーザーがその整数を当てるゲームを作成してください。  \n",
        "・ユーザーは整数を入力し、コンピュータが選んだ整数と比較します。  \n",
        "・コンピュータは「大きすぎる」または「小さすぎる」というヒントを提供します。  \n",
        "・ユーザーが正確な整数を当てるまでゲームは続き、ユーザーが当てた後、ゲームの終了メッセージを表示し、ユーザーに再プレイを尋ねてください。  \n",
        "・また、ユーザーが10回連続で不正解の場合にゲームを終了するオプションも含めてください。  "
      ]
    },
    {
      "cell_type": "code",
      "execution_count": null,
      "metadata": {
        "colab": {
          "base_uri": "https://localhost:8080/"
        },
        "id": "uC1Ybuqg_WKL",
        "outputId": "c66afc01-bbba-49df-9d38-228c07c8657d"
      },
      "outputs": [
        {
          "name": "stdout",
          "output_type": "stream",
          "text": [
            "1から100までの整数を当ててください。\n",
            "試行 1: 整数を入力してください: 50\n",
            "小さすぎます。もう一度試してください。\n",
            "試行 2: 整数を入力してください: 75\n",
            "小さすぎます。もう一度試してください。\n",
            "試行 3: 整数を入力してください: 88\n",
            "小さすぎます。もう一度試してください。\n",
            "試行 4: 整数を入力してください: 95\n",
            "小さすぎます。もう一度試してください。\n",
            "試行 5: 整数を入力してください: 98\n",
            "正解です！5回目で当てました。\n",
            "もう一度プレイしますか？（はい/いいえ）: はい\n",
            "1から100までの整数を当ててください。\n",
            "試行 1: 整数を入力してください: 50\n",
            "大きすぎます。もう一度試してください。\n",
            "試行 2: 整数を入力してください: 25\n",
            "大きすぎます。もう一度試してください。\n",
            "試行 3: 整数を入力してください: 13\n",
            "大きすぎます。もう一度試してください。\n",
            "試行 4: 整数を入力してください: 7\n",
            "大きすぎます。もう一度試してください。\n",
            "試行 5: 整数を入力してください: 4\n",
            "小さすぎます。もう一度試してください。\n",
            "試行 6: 整数を入力してください: 6\n",
            "正解です！6回目で当てました。\n",
            "もう一度プレイしますか？（はい/いいえ）: いいえ\n"
          ]
        }
      ],
      "source": [
        "#ここにプログラムを書いてください\n",
        "\n"
      ]
    },
    {
      "cell_type": "markdown",
      "metadata": {
        "id": "7pk7xyllAynL"
      },
      "source": [
        "## 問題8 宇宙ステーションの位置を可視化する(20点)\n",
        "現在の宇宙ステーションの位置情報を返してくれる関数issnowとグラフを可視化する関数mapshowを利用する。  \n",
        "issnow：引数なし、返り値 緯度lat,経度lonの2つ  \n",
        "mapshow：引数 list型の配列2つ(緯度lat,経度lonの順)  \n",
        "  \n",
        "・issnowを5回以上実行する。実行間隔は5秒とし、返り値の結果をlats,lons(ともにlist型)に追加しなさい  \n",
        "・lats,lonsをmapshowに渡し、可視化しなさい"
      ]
    },
    {
      "cell_type": "code",
      "execution_count": null,
      "metadata": {
        "id": "KhGFqAmG_Mpl"
      },
      "outputs": [],
      "source": [
        "#現在の宇宙ステーションの位置情報を返してくれる関数issnow\n",
        "import requests\n",
        "\n",
        "def issnow():\n",
        "  #宇宙ステーションの位置情報を得るAPIを利用\n",
        "  url = \"http://api.open-notify.org/iss-now.json\"\n",
        "\n",
        "  try:\n",
        "    response = requests.get(url) #APIを実行\n",
        "    response.raise_for_status()  # エラーチェック\n",
        "    data = response.json()  # レスポンスデータをJSON形式で取得\n",
        "    return data['iss_position']['latitude'], data['iss_position']['longitude']#緯度,経度を返す\n",
        "  except requests.exceptions.RequestException as e:#エラーが発生した場合\n",
        "    print(f\"エラーが発生しました: {e}\")\n",
        "    return None, None"
      ]
    },
    {
      "cell_type": "code",
      "execution_count": null,
      "metadata": {
        "id": "WJLBZVjbFta8"
      },
      "outputs": [],
      "source": [
        "#グラフを可視化する関数mapshow\n",
        "import folium #地図上に描画するために使用\n",
        "def mapshow(lats,lons):\n",
        "  # 地図を作成\n",
        "  m = folium.Map(location=[lats[0], lons[0]], zoom_start=6)\n",
        "\n",
        "  # 軌跡を地図上に描画\n",
        "  for lat, lon in zip(lats, lons):\n",
        "      folium.CircleMarker(\n",
        "          location=[lat, lon],\n",
        "          radius=5,\n",
        "          color='blue',\n",
        "          fill=True,\n",
        "          fill_color='blue'\n",
        "      ).add_to(m)\n",
        "\n",
        "  # 地図を表示\n",
        "  return m"
      ]
    },
    {
      "cell_type": "code",
      "execution_count": null,
      "metadata": {
        "colab": {
          "base_uri": "https://localhost:8080/"
        },
        "id": "N0sbaMEIF8tX",
        "outputId": "d1824f79-6b86-4aaa-dba2-accc28ef0316"
      },
      "outputs": [
        {
          "name": "stdout",
          "output_type": "stream",
          "text": [
            "5秒間処理を停止します\n",
            "5秒経過しました\n"
          ]
        }
      ],
      "source": [
        "#### ヒント ####\n",
        "#n秒処理を一時停止するにはtimeをインポートし、下記のようにtime.sleepを使います\n",
        "import time\n",
        "n = 5\n",
        "print(str(n)+'秒間処理を停止します')\n",
        "time.sleep(n) #n秒間処理を停止\n",
        "print(str(n)+'秒経過しました')"
      ]
    },
    {
      "cell_type": "code",
      "execution_count": null,
      "metadata": {
        "colab": {
          "base_uri": "https://localhost:8080/",
          "height": 1000
        },
        "id": "kznVf30eEK94",
        "outputId": "a146b087-6593-4fe8-f420-5a1c8c5532d5"
      },
      "outputs": [
        {
          "name": "stdout",
          "output_type": "stream",
          "text": [
            "lat緯度 ['51.6202', '51.6164', '51.6103', '51.6019', '51.5911', '51.5766', '51.5610', '51.5430', '51.5228', '51.5003']\n",
            "lon緯度 ['-4.1362', '-3.6348', '-3.1336', '-2.6326', '-2.1316', '-1.5811', '-1.0810', '-0.5813', '-0.0820', '0.4168']\n"
          ]
        },
        {
          "data": {
            "text/html": [
              "<div style=\"width:100%;\"><div style=\"position:relative;width:100%;height:0;padding-bottom:60%;\"><span style=\"color:#565656\">Make this Notebook Trusted to load map: File -> Trust Notebook</span><iframe srcdoc=\"&lt;!DOCTYPE html&gt;\n",
              "&lt;html&gt;\n",
              "&lt;head&gt;\n",
              "    \n",
              "    &lt;meta http-equiv=&quot;content-type&quot; content=&quot;text/html; charset=UTF-8&quot; /&gt;\n",
              "    \n",
              "        &lt;script&gt;\n",
              "            L_NO_TOUCH = false;\n",
              "            L_DISABLE_3D = false;\n",
              "        &lt;/script&gt;\n",
              "    \n",
              "    &lt;style&gt;html, body {width: 100%;height: 100%;margin: 0;padding: 0;}&lt;/style&gt;\n",
              "    &lt;style&gt;#map {position:absolute;top:0;bottom:0;right:0;left:0;}&lt;/style&gt;\n",
              "    &lt;script src=&quot;https://cdn.jsdelivr.net/npm/leaflet@1.9.3/dist/leaflet.js&quot;&gt;&lt;/script&gt;\n",
              "    &lt;script src=&quot;https://code.jquery.com/jquery-1.12.4.min.js&quot;&gt;&lt;/script&gt;\n",
              "    &lt;script src=&quot;https://cdn.jsdelivr.net/npm/bootstrap@5.2.2/dist/js/bootstrap.bundle.min.js&quot;&gt;&lt;/script&gt;\n",
              "    &lt;script src=&quot;https://cdnjs.cloudflare.com/ajax/libs/Leaflet.awesome-markers/2.0.2/leaflet.awesome-markers.js&quot;&gt;&lt;/script&gt;\n",
              "    &lt;link rel=&quot;stylesheet&quot; href=&quot;https://cdn.jsdelivr.net/npm/leaflet@1.9.3/dist/leaflet.css&quot;/&gt;\n",
              "    &lt;link rel=&quot;stylesheet&quot; href=&quot;https://cdn.jsdelivr.net/npm/bootstrap@5.2.2/dist/css/bootstrap.min.css&quot;/&gt;\n",
              "    &lt;link rel=&quot;stylesheet&quot; href=&quot;https://netdna.bootstrapcdn.com/bootstrap/3.0.0/css/bootstrap.min.css&quot;/&gt;\n",
              "    &lt;link rel=&quot;stylesheet&quot; href=&quot;https://cdn.jsdelivr.net/npm/@fortawesome/fontawesome-free@6.2.0/css/all.min.css&quot;/&gt;\n",
              "    &lt;link rel=&quot;stylesheet&quot; href=&quot;https://cdnjs.cloudflare.com/ajax/libs/Leaflet.awesome-markers/2.0.2/leaflet.awesome-markers.css&quot;/&gt;\n",
              "    &lt;link rel=&quot;stylesheet&quot; href=&quot;https://cdn.jsdelivr.net/gh/python-visualization/folium/folium/templates/leaflet.awesome.rotate.min.css&quot;/&gt;\n",
              "    \n",
              "            &lt;meta name=&quot;viewport&quot; content=&quot;width=device-width,\n",
              "                initial-scale=1.0, maximum-scale=1.0, user-scalable=no&quot; /&gt;\n",
              "            &lt;style&gt;\n",
              "                #map_8dacbc8bda30ff3673824c653591c130 {\n",
              "                    position: relative;\n",
              "                    width: 100.0%;\n",
              "                    height: 100.0%;\n",
              "                    left: 0.0%;\n",
              "                    top: 0.0%;\n",
              "                }\n",
              "                .leaflet-container { font-size: 1rem; }\n",
              "            &lt;/style&gt;\n",
              "        \n",
              "&lt;/head&gt;\n",
              "&lt;body&gt;\n",
              "    \n",
              "    \n",
              "            &lt;div class=&quot;folium-map&quot; id=&quot;map_8dacbc8bda30ff3673824c653591c130&quot; &gt;&lt;/div&gt;\n",
              "        \n",
              "&lt;/body&gt;\n",
              "&lt;script&gt;\n",
              "    \n",
              "    \n",
              "            var map_8dacbc8bda30ff3673824c653591c130 = L.map(\n",
              "                &quot;map_8dacbc8bda30ff3673824c653591c130&quot;,\n",
              "                {\n",
              "                    center: [51.6202, -4.1362],\n",
              "                    crs: L.CRS.EPSG3857,\n",
              "                    zoom: 6,\n",
              "                    zoomControl: true,\n",
              "                    preferCanvas: false,\n",
              "                }\n",
              "            );\n",
              "\n",
              "            \n",
              "\n",
              "        \n",
              "    \n",
              "            var tile_layer_ee45199e021ed5eac81bfd26a5c1c6e2 = L.tileLayer(\n",
              "                &quot;https://{s}.tile.openstreetmap.org/{z}/{x}/{y}.png&quot;,\n",
              "                {&quot;attribution&quot;: &quot;Data by \\u0026copy; \\u003ca target=\\&quot;_blank\\&quot; href=\\&quot;http://openstreetmap.org\\&quot;\\u003eOpenStreetMap\\u003c/a\\u003e, under \\u003ca target=\\&quot;_blank\\&quot; href=\\&quot;http://www.openstreetmap.org/copyright\\&quot;\\u003eODbL\\u003c/a\\u003e.&quot;, &quot;detectRetina&quot;: false, &quot;maxNativeZoom&quot;: 18, &quot;maxZoom&quot;: 18, &quot;minZoom&quot;: 0, &quot;noWrap&quot;: false, &quot;opacity&quot;: 1, &quot;subdomains&quot;: &quot;abc&quot;, &quot;tms&quot;: false}\n",
              "            ).addTo(map_8dacbc8bda30ff3673824c653591c130);\n",
              "        \n",
              "    \n",
              "            var circle_marker_2d23d4ff7c1bd37ff7b77a44dbb4151e = L.circleMarker(\n",
              "                [51.6202, -4.1362],\n",
              "                {&quot;bubblingMouseEvents&quot;: true, &quot;color&quot;: &quot;blue&quot;, &quot;dashArray&quot;: null, &quot;dashOffset&quot;: null, &quot;fill&quot;: true, &quot;fillColor&quot;: &quot;blue&quot;, &quot;fillOpacity&quot;: 0.2, &quot;fillRule&quot;: &quot;evenodd&quot;, &quot;lineCap&quot;: &quot;round&quot;, &quot;lineJoin&quot;: &quot;round&quot;, &quot;opacity&quot;: 1.0, &quot;radius&quot;: 5, &quot;stroke&quot;: true, &quot;weight&quot;: 3}\n",
              "            ).addTo(map_8dacbc8bda30ff3673824c653591c130);\n",
              "        \n",
              "    \n",
              "            var circle_marker_c1f5f36dfddf3fba17ab7037a39eb140 = L.circleMarker(\n",
              "                [51.6164, -3.6348],\n",
              "                {&quot;bubblingMouseEvents&quot;: true, &quot;color&quot;: &quot;blue&quot;, &quot;dashArray&quot;: null, &quot;dashOffset&quot;: null, &quot;fill&quot;: true, &quot;fillColor&quot;: &quot;blue&quot;, &quot;fillOpacity&quot;: 0.2, &quot;fillRule&quot;: &quot;evenodd&quot;, &quot;lineCap&quot;: &quot;round&quot;, &quot;lineJoin&quot;: &quot;round&quot;, &quot;opacity&quot;: 1.0, &quot;radius&quot;: 5, &quot;stroke&quot;: true, &quot;weight&quot;: 3}\n",
              "            ).addTo(map_8dacbc8bda30ff3673824c653591c130);\n",
              "        \n",
              "    \n",
              "            var circle_marker_0f481eab4c2cf211c093740f89840e7b = L.circleMarker(\n",
              "                [51.6103, -3.1336],\n",
              "                {&quot;bubblingMouseEvents&quot;: true, &quot;color&quot;: &quot;blue&quot;, &quot;dashArray&quot;: null, &quot;dashOffset&quot;: null, &quot;fill&quot;: true, &quot;fillColor&quot;: &quot;blue&quot;, &quot;fillOpacity&quot;: 0.2, &quot;fillRule&quot;: &quot;evenodd&quot;, &quot;lineCap&quot;: &quot;round&quot;, &quot;lineJoin&quot;: &quot;round&quot;, &quot;opacity&quot;: 1.0, &quot;radius&quot;: 5, &quot;stroke&quot;: true, &quot;weight&quot;: 3}\n",
              "            ).addTo(map_8dacbc8bda30ff3673824c653591c130);\n",
              "        \n",
              "    \n",
              "            var circle_marker_192954fdcd28f7274750f64685edabaa = L.circleMarker(\n",
              "                [51.6019, -2.6326],\n",
              "                {&quot;bubblingMouseEvents&quot;: true, &quot;color&quot;: &quot;blue&quot;, &quot;dashArray&quot;: null, &quot;dashOffset&quot;: null, &quot;fill&quot;: true, &quot;fillColor&quot;: &quot;blue&quot;, &quot;fillOpacity&quot;: 0.2, &quot;fillRule&quot;: &quot;evenodd&quot;, &quot;lineCap&quot;: &quot;round&quot;, &quot;lineJoin&quot;: &quot;round&quot;, &quot;opacity&quot;: 1.0, &quot;radius&quot;: 5, &quot;stroke&quot;: true, &quot;weight&quot;: 3}\n",
              "            ).addTo(map_8dacbc8bda30ff3673824c653591c130);\n",
              "        \n",
              "    \n",
              "            var circle_marker_6a155da4edbfdbae85acc8db87b63cbd = L.circleMarker(\n",
              "                [51.5911, -2.1316],\n",
              "                {&quot;bubblingMouseEvents&quot;: true, &quot;color&quot;: &quot;blue&quot;, &quot;dashArray&quot;: null, &quot;dashOffset&quot;: null, &quot;fill&quot;: true, &quot;fillColor&quot;: &quot;blue&quot;, &quot;fillOpacity&quot;: 0.2, &quot;fillRule&quot;: &quot;evenodd&quot;, &quot;lineCap&quot;: &quot;round&quot;, &quot;lineJoin&quot;: &quot;round&quot;, &quot;opacity&quot;: 1.0, &quot;radius&quot;: 5, &quot;stroke&quot;: true, &quot;weight&quot;: 3}\n",
              "            ).addTo(map_8dacbc8bda30ff3673824c653591c130);\n",
              "        \n",
              "    \n",
              "            var circle_marker_313a8f248034576e02036247e7b17b55 = L.circleMarker(\n",
              "                [51.5766, -1.5811],\n",
              "                {&quot;bubblingMouseEvents&quot;: true, &quot;color&quot;: &quot;blue&quot;, &quot;dashArray&quot;: null, &quot;dashOffset&quot;: null, &quot;fill&quot;: true, &quot;fillColor&quot;: &quot;blue&quot;, &quot;fillOpacity&quot;: 0.2, &quot;fillRule&quot;: &quot;evenodd&quot;, &quot;lineCap&quot;: &quot;round&quot;, &quot;lineJoin&quot;: &quot;round&quot;, &quot;opacity&quot;: 1.0, &quot;radius&quot;: 5, &quot;stroke&quot;: true, &quot;weight&quot;: 3}\n",
              "            ).addTo(map_8dacbc8bda30ff3673824c653591c130);\n",
              "        \n",
              "    \n",
              "            var circle_marker_d8565cf8f811f22ef1b37a84cee1eeaa = L.circleMarker(\n",
              "                [51.561, -1.081],\n",
              "                {&quot;bubblingMouseEvents&quot;: true, &quot;color&quot;: &quot;blue&quot;, &quot;dashArray&quot;: null, &quot;dashOffset&quot;: null, &quot;fill&quot;: true, &quot;fillColor&quot;: &quot;blue&quot;, &quot;fillOpacity&quot;: 0.2, &quot;fillRule&quot;: &quot;evenodd&quot;, &quot;lineCap&quot;: &quot;round&quot;, &quot;lineJoin&quot;: &quot;round&quot;, &quot;opacity&quot;: 1.0, &quot;radius&quot;: 5, &quot;stroke&quot;: true, &quot;weight&quot;: 3}\n",
              "            ).addTo(map_8dacbc8bda30ff3673824c653591c130);\n",
              "        \n",
              "    \n",
              "            var circle_marker_c416ddfcc3328c3d3f8d7da5d5b1b2ad = L.circleMarker(\n",
              "                [51.543, -0.5813],\n",
              "                {&quot;bubblingMouseEvents&quot;: true, &quot;color&quot;: &quot;blue&quot;, &quot;dashArray&quot;: null, &quot;dashOffset&quot;: null, &quot;fill&quot;: true, &quot;fillColor&quot;: &quot;blue&quot;, &quot;fillOpacity&quot;: 0.2, &quot;fillRule&quot;: &quot;evenodd&quot;, &quot;lineCap&quot;: &quot;round&quot;, &quot;lineJoin&quot;: &quot;round&quot;, &quot;opacity&quot;: 1.0, &quot;radius&quot;: 5, &quot;stroke&quot;: true, &quot;weight&quot;: 3}\n",
              "            ).addTo(map_8dacbc8bda30ff3673824c653591c130);\n",
              "        \n",
              "    \n",
              "            var circle_marker_aa3f8d76427f65a0afe3cd2e48dfbee6 = L.circleMarker(\n",
              "                [51.5228, -0.082],\n",
              "                {&quot;bubblingMouseEvents&quot;: true, &quot;color&quot;: &quot;blue&quot;, &quot;dashArray&quot;: null, &quot;dashOffset&quot;: null, &quot;fill&quot;: true, &quot;fillColor&quot;: &quot;blue&quot;, &quot;fillOpacity&quot;: 0.2, &quot;fillRule&quot;: &quot;evenodd&quot;, &quot;lineCap&quot;: &quot;round&quot;, &quot;lineJoin&quot;: &quot;round&quot;, &quot;opacity&quot;: 1.0, &quot;radius&quot;: 5, &quot;stroke&quot;: true, &quot;weight&quot;: 3}\n",
              "            ).addTo(map_8dacbc8bda30ff3673824c653591c130);\n",
              "        \n",
              "    \n",
              "            var circle_marker_25c0257d6bf565e78c9dff6b4b9c4926 = L.circleMarker(\n",
              "                [51.5003, 0.4168],\n",
              "                {&quot;bubblingMouseEvents&quot;: true, &quot;color&quot;: &quot;blue&quot;, &quot;dashArray&quot;: null, &quot;dashOffset&quot;: null, &quot;fill&quot;: true, &quot;fillColor&quot;: &quot;blue&quot;, &quot;fillOpacity&quot;: 0.2, &quot;fillRule&quot;: &quot;evenodd&quot;, &quot;lineCap&quot;: &quot;round&quot;, &quot;lineJoin&quot;: &quot;round&quot;, &quot;opacity&quot;: 1.0, &quot;radius&quot;: 5, &quot;stroke&quot;: true, &quot;weight&quot;: 3}\n",
              "            ).addTo(map_8dacbc8bda30ff3673824c653591c130);\n",
              "        \n",
              "&lt;/script&gt;\n",
              "&lt;/html&gt;\" style=\"position:absolute;width:100%;height:100%;left:0;top:0;border:none !important;\" allowfullscreen webkitallowfullscreen mozallowfullscreen></iframe></div></div>"
            ],
            "text/plain": [
              "<folium.folium.Map at 0x7a025d645ab0>"
            ]
          },
          "execution_count": 17,
          "metadata": {},
          "output_type": "execute_result"
        }
      ],
      "source": [
        "#ここにコードを記載する\n",
        "\n"
      ]
    },
    {
      "cell_type": "code",
      "execution_count": null,
      "metadata": {
        "id": "iW_Blj51QWHv"
      },
      "outputs": [],
      "source": []
    }
  ],
  "metadata": {
    "colab": {
      "provenance": []
    },
    "kernelspec": {
      "display_name": "Python 3",
      "name": "python3"
    },
    "language_info": {
      "name": "python"
    }
  },
  "nbformat": 4,
  "nbformat_minor": 0
}
