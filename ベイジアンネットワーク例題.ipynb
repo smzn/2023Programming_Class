{
  "nbformat": 4,
  "nbformat_minor": 0,
  "metadata": {
    "colab": {
      "provenance": []
    },
    "kernelspec": {
      "name": "python3",
      "display_name": "Python 3"
    },
    "language_info": {
      "name": "python"
    },
    "widgets": {
      "application/vnd.jupyter.widget-state+json": {
        "69147540f47e40838b8f302cf7ba5198": {
          "model_module": "@jupyter-widgets/controls",
          "model_name": "HBoxModel",
          "model_module_version": "1.5.0",
          "state": {
            "_dom_classes": [],
            "_model_module": "@jupyter-widgets/controls",
            "_model_module_version": "1.5.0",
            "_model_name": "HBoxModel",
            "_view_count": null,
            "_view_module": "@jupyter-widgets/controls",
            "_view_module_version": "1.5.0",
            "_view_name": "HBoxView",
            "box_style": "",
            "children": [
              "IPY_MODEL_480cb65e7bbd48c8beaee06de2d49459",
              "IPY_MODEL_be1cbd76dd434c079d8c9819d7cbbde0",
              "IPY_MODEL_f0a4c543fafe4bab869ecd4998ff4730"
            ],
            "layout": "IPY_MODEL_1cbfd945d457473e9281ca14822f05fc"
          }
        },
        "480cb65e7bbd48c8beaee06de2d49459": {
          "model_module": "@jupyter-widgets/controls",
          "model_name": "HTMLModel",
          "model_module_version": "1.5.0",
          "state": {
            "_dom_classes": [],
            "_model_module": "@jupyter-widgets/controls",
            "_model_module_version": "1.5.0",
            "_model_name": "HTMLModel",
            "_view_count": null,
            "_view_module": "@jupyter-widgets/controls",
            "_view_module_version": "1.5.0",
            "_view_name": "HTMLView",
            "description": "",
            "description_tooltip": null,
            "layout": "IPY_MODEL_a25203ae627044b198d0c36f538998e3",
            "placeholder": "​",
            "style": "IPY_MODEL_d52875bc81054f91bf31c946ce1919dc",
            "value": "  0%"
          }
        },
        "be1cbd76dd434c079d8c9819d7cbbde0": {
          "model_module": "@jupyter-widgets/controls",
          "model_name": "FloatProgressModel",
          "model_module_version": "1.5.0",
          "state": {
            "_dom_classes": [],
            "_model_module": "@jupyter-widgets/controls",
            "_model_module_version": "1.5.0",
            "_model_name": "FloatProgressModel",
            "_view_count": null,
            "_view_module": "@jupyter-widgets/controls",
            "_view_module_version": "1.5.0",
            "_view_name": "ProgressView",
            "bar_style": "danger",
            "description": "",
            "description_tooltip": null,
            "layout": "IPY_MODEL_aab1f683eb6e4ba8b6d44691967b69ee",
            "max": 1000000,
            "min": 0,
            "orientation": "horizontal",
            "style": "IPY_MODEL_ac035ab6359d4e9d82f007061a5729db",
            "value": 0
          }
        },
        "f0a4c543fafe4bab869ecd4998ff4730": {
          "model_module": "@jupyter-widgets/controls",
          "model_name": "HTMLModel",
          "model_module_version": "1.5.0",
          "state": {
            "_dom_classes": [],
            "_model_module": "@jupyter-widgets/controls",
            "_model_module_version": "1.5.0",
            "_model_name": "HTMLModel",
            "_view_count": null,
            "_view_module": "@jupyter-widgets/controls",
            "_view_module_version": "1.5.0",
            "_view_name": "HTMLView",
            "description": "",
            "description_tooltip": null,
            "layout": "IPY_MODEL_2dab8a32e7a847bf9c24cdd6807a0afd",
            "placeholder": "​",
            "style": "IPY_MODEL_49b8607e877e47d1a0738383c975f474",
            "value": " 0/1000000 [00:00&lt;?, ?it/s]"
          }
        },
        "1cbfd945d457473e9281ca14822f05fc": {
          "model_module": "@jupyter-widgets/base",
          "model_name": "LayoutModel",
          "model_module_version": "1.2.0",
          "state": {
            "_model_module": "@jupyter-widgets/base",
            "_model_module_version": "1.2.0",
            "_model_name": "LayoutModel",
            "_view_count": null,
            "_view_module": "@jupyter-widgets/base",
            "_view_module_version": "1.2.0",
            "_view_name": "LayoutView",
            "align_content": null,
            "align_items": null,
            "align_self": null,
            "border": null,
            "bottom": null,
            "display": null,
            "flex": null,
            "flex_flow": null,
            "grid_area": null,
            "grid_auto_columns": null,
            "grid_auto_flow": null,
            "grid_auto_rows": null,
            "grid_column": null,
            "grid_gap": null,
            "grid_row": null,
            "grid_template_areas": null,
            "grid_template_columns": null,
            "grid_template_rows": null,
            "height": null,
            "justify_content": null,
            "justify_items": null,
            "left": null,
            "margin": null,
            "max_height": null,
            "max_width": null,
            "min_height": null,
            "min_width": null,
            "object_fit": null,
            "object_position": null,
            "order": null,
            "overflow": null,
            "overflow_x": null,
            "overflow_y": null,
            "padding": null,
            "right": null,
            "top": null,
            "visibility": null,
            "width": null
          }
        },
        "a25203ae627044b198d0c36f538998e3": {
          "model_module": "@jupyter-widgets/base",
          "model_name": "LayoutModel",
          "model_module_version": "1.2.0",
          "state": {
            "_model_module": "@jupyter-widgets/base",
            "_model_module_version": "1.2.0",
            "_model_name": "LayoutModel",
            "_view_count": null,
            "_view_module": "@jupyter-widgets/base",
            "_view_module_version": "1.2.0",
            "_view_name": "LayoutView",
            "align_content": null,
            "align_items": null,
            "align_self": null,
            "border": null,
            "bottom": null,
            "display": null,
            "flex": null,
            "flex_flow": null,
            "grid_area": null,
            "grid_auto_columns": null,
            "grid_auto_flow": null,
            "grid_auto_rows": null,
            "grid_column": null,
            "grid_gap": null,
            "grid_row": null,
            "grid_template_areas": null,
            "grid_template_columns": null,
            "grid_template_rows": null,
            "height": null,
            "justify_content": null,
            "justify_items": null,
            "left": null,
            "margin": null,
            "max_height": null,
            "max_width": null,
            "min_height": null,
            "min_width": null,
            "object_fit": null,
            "object_position": null,
            "order": null,
            "overflow": null,
            "overflow_x": null,
            "overflow_y": null,
            "padding": null,
            "right": null,
            "top": null,
            "visibility": null,
            "width": null
          }
        },
        "d52875bc81054f91bf31c946ce1919dc": {
          "model_module": "@jupyter-widgets/controls",
          "model_name": "DescriptionStyleModel",
          "model_module_version": "1.5.0",
          "state": {
            "_model_module": "@jupyter-widgets/controls",
            "_model_module_version": "1.5.0",
            "_model_name": "DescriptionStyleModel",
            "_view_count": null,
            "_view_module": "@jupyter-widgets/base",
            "_view_module_version": "1.2.0",
            "_view_name": "StyleView",
            "description_width": ""
          }
        },
        "aab1f683eb6e4ba8b6d44691967b69ee": {
          "model_module": "@jupyter-widgets/base",
          "model_name": "LayoutModel",
          "model_module_version": "1.2.0",
          "state": {
            "_model_module": "@jupyter-widgets/base",
            "_model_module_version": "1.2.0",
            "_model_name": "LayoutModel",
            "_view_count": null,
            "_view_module": "@jupyter-widgets/base",
            "_view_module_version": "1.2.0",
            "_view_name": "LayoutView",
            "align_content": null,
            "align_items": null,
            "align_self": null,
            "border": null,
            "bottom": null,
            "display": null,
            "flex": null,
            "flex_flow": null,
            "grid_area": null,
            "grid_auto_columns": null,
            "grid_auto_flow": null,
            "grid_auto_rows": null,
            "grid_column": null,
            "grid_gap": null,
            "grid_row": null,
            "grid_template_areas": null,
            "grid_template_columns": null,
            "grid_template_rows": null,
            "height": null,
            "justify_content": null,
            "justify_items": null,
            "left": null,
            "margin": null,
            "max_height": null,
            "max_width": null,
            "min_height": null,
            "min_width": null,
            "object_fit": null,
            "object_position": null,
            "order": null,
            "overflow": null,
            "overflow_x": null,
            "overflow_y": null,
            "padding": null,
            "right": null,
            "top": null,
            "visibility": null,
            "width": null
          }
        },
        "ac035ab6359d4e9d82f007061a5729db": {
          "model_module": "@jupyter-widgets/controls",
          "model_name": "ProgressStyleModel",
          "model_module_version": "1.5.0",
          "state": {
            "_model_module": "@jupyter-widgets/controls",
            "_model_module_version": "1.5.0",
            "_model_name": "ProgressStyleModel",
            "_view_count": null,
            "_view_module": "@jupyter-widgets/base",
            "_view_module_version": "1.2.0",
            "_view_name": "StyleView",
            "bar_color": null,
            "description_width": ""
          }
        },
        "2dab8a32e7a847bf9c24cdd6807a0afd": {
          "model_module": "@jupyter-widgets/base",
          "model_name": "LayoutModel",
          "model_module_version": "1.2.0",
          "state": {
            "_model_module": "@jupyter-widgets/base",
            "_model_module_version": "1.2.0",
            "_model_name": "LayoutModel",
            "_view_count": null,
            "_view_module": "@jupyter-widgets/base",
            "_view_module_version": "1.2.0",
            "_view_name": "LayoutView",
            "align_content": null,
            "align_items": null,
            "align_self": null,
            "border": null,
            "bottom": null,
            "display": null,
            "flex": null,
            "flex_flow": null,
            "grid_area": null,
            "grid_auto_columns": null,
            "grid_auto_flow": null,
            "grid_auto_rows": null,
            "grid_column": null,
            "grid_gap": null,
            "grid_row": null,
            "grid_template_areas": null,
            "grid_template_columns": null,
            "grid_template_rows": null,
            "height": null,
            "justify_content": null,
            "justify_items": null,
            "left": null,
            "margin": null,
            "max_height": null,
            "max_width": null,
            "min_height": null,
            "min_width": null,
            "object_fit": null,
            "object_position": null,
            "order": null,
            "overflow": null,
            "overflow_x": null,
            "overflow_y": null,
            "padding": null,
            "right": null,
            "top": null,
            "visibility": null,
            "width": null
          }
        },
        "49b8607e877e47d1a0738383c975f474": {
          "model_module": "@jupyter-widgets/controls",
          "model_name": "DescriptionStyleModel",
          "model_module_version": "1.5.0",
          "state": {
            "_model_module": "@jupyter-widgets/controls",
            "_model_module_version": "1.5.0",
            "_model_name": "DescriptionStyleModel",
            "_view_count": null,
            "_view_module": "@jupyter-widgets/base",
            "_view_module_version": "1.2.0",
            "_view_name": "StyleView",
            "description_width": ""
          }
        }
      }
    }
  },
  "cells": [
    {
      "cell_type": "markdown",
      "source": [
        "藤田一弥. (2015). 見えないものをさぐる―それがベイズ ツールによる実践ベイズ統計. 株式会社 オーム社.  \n",
        "P99 4-2 例題2を利用"
      ],
      "metadata": {
        "id": "wmOlHM9r1qAg"
      }
    },
    {
      "cell_type": "code",
      "execution_count": 1,
      "metadata": {
        "colab": {
          "base_uri": "https://localhost:8080/",
          "height": 516
        },
        "id": "-FyPeGQlvfx4",
        "outputId": "d60616bc-f0a3-474f-e267-61c80cd5453e"
      },
      "outputs": [
        {
          "output_type": "display_data",
          "data": {
            "text/plain": [
              "<Figure size 640x480 with 1 Axes>"
            ],
            "image/png": "[encoded data removed]"
          },
          "metadata": {}
        }
      ],
      "source": [
        "import networkx as nx\n",
        "import matplotlib.pyplot as plt\n",
        "\n",
        "# ベイジアンネットワークの有向グラフを作成\n",
        "G = nx.DiGraph()\n",
        "\n",
        "# ノードを追加\n",
        "G.add_node(\"W\")\n",
        "G.add_node(\"S\")\n",
        "G.add_node(\"R\")\n",
        "G.add_node(\"G\")\n",
        "\n",
        "# エッジを追加\n",
        "G.add_edge(\"W\", \"S\")\n",
        "G.add_edge(\"W\", \"R\")\n",
        "G.add_edge(\"S\", \"G\")\n",
        "G.add_edge(\"R\", \"G\")\n",
        "\n",
        "# ベイジアンネットワークを描画\n",
        "pos = nx.spring_layout(G)  # グラフをレイアウト\n",
        "nx.draw(G, pos, with_labels=True, node_size=3000, node_color=\"skyblue\", font_size=15, font_weight=\"bold\")  # グラフを描画\n",
        "plt.show()\n"
      ]
    },
    {
      "cell_type": "markdown",
      "source": [
        "## ベイジアンネットワークでの主な計算\n",
        "### 条件付き確率の計算 $P(G|W)$\n",
        "上位の(事前)確率を与えた場合の、下位層の確率を求める  \n",
        "$P(G|W)=\\frac{P(G, W)}{P(W)}\\\\\n",
        "= \\frac{\\sum_{s, r} P(G, W, S, R)}{P(W)}\\\\\n",
        "= \\frac{\\sum_{s, r} P(G | W, S, R)P(W, S, R)}{P(W)}\\\\\n",
        "= \\frac{\\sum_{s, r} P(G | S, R)P(S | W, R)P(W, R)}{P(W)}\\\\\n",
        "= \\frac{\\sum_{s, r} P(G | S, R)P(S | W)P(R | W)P(W)}{P(W)}\\\\\n",
        "= \\sum_{s, r} P(G | S, R)P(S | W)P(R | W)\\\\ $\n",
        "  \n",
        "具体的には、状態空間を$F$として, ($w, s, r, g \\in F$)、$W = w$となる条件付き確率$P(P(G =g | W = w)$を求めるには\n",
        "$P(G = g|W = w) = \\sum_{s, r \\in F} P(G = g| S = s, R = r)P(S = s | W = w)P(R = r | W = w)$  \n",
        "を計算する\n",
        "### 確率的推論(ベイズ推論) $P(W|G)$\n",
        "与えられた観測（Gの値）をもとに、ベイズの定理を利用してWの事後確率分布を計算します。推論の目的は、観測されたデータや事実から、未知の変数の確率分布を推定することです。  \n",
        "$P(W | G ) \\\\\n",
        "= \\frac{P(G | W )P(W)}{P(G)} \\\\\n",
        "= \\frac{P(G | W)P(W)}{\\sum_w P(G, W)} \\\\\n",
        "= \\frac{P(G | W)P(W)}{\\sum_w P(G | W)P(W)}$  \n",
        "ここで  \n",
        "$P(G | W )\\\\\n",
        "= \\frac{P(G, W)}{P(W)}\\\\\n",
        "= \\frac{\\sum_{s, r} P(G, W, S, R)}{P(W)}\\\\\n",
        "= \\frac{\\sum_{s, r} P(G | W, S, R)P(W, S, R)}{P(W)}\\\\\n",
        "= \\frac{\\sum_{s, r} P(G | S, R)P(S, R | W)P(W)}{P(W)}\\\\\n",
        "= \\sum_{s, r} P(G | S, R)P(S | W)P(R | W)$\n",
        "  \n",
        "これより、  \n",
        "$P(W | G ) \\\\\n",
        "= \\frac{\\sum_{s, r} P(G | S, R)P(S | W)P(R | W)P(W)}{\\sum_w \\sum_{s, r} P(G | S, R)P(S | W)P(R | W)P(W)} \\\\ $\n",
        "  \n",
        "となる\n"
      ],
      "metadata": {
        "id": "C_ZAsGpU9Y7l"
      }
    },
    {
      "cell_type": "code",
      "source": [
        "!pip install pgmpy"
      ],
      "metadata": {
        "colab": {
          "base_uri": "https://localhost:8080/"
        },
        "id": "NE6tg3uhcTVO",
        "outputId": "0bc35ce4-38a6-4277-bcc6-4f992a5228fb"
      },
      "execution_count": 2,
      "outputs": [
        {
          "output_type": "stream",
          "name": "stdout",
          "text": [
            "Collecting pgmpy\n",
            "  Downloading pgmpy-0.1.24-py3-none-any.whl (2.0 MB)\n",
            "\u001b[?25l     \u001b[90m━━━━━━━━━━━━━━━━━━━━━━━━━━━━━━━━━━━━━━━━\u001b[0m \u001b[32m0.0/2.0 MB\u001b[0m \u001b[31m?\u001b[0m eta \u001b[36m-:--:--\u001b[0m\r\u001b[2K     \u001b[91m━━━\u001b[0m\u001b[91m╸\u001b[0m\u001b[90m━━━━━━━━━━━━━━━━━━━━━━━━━━━━━━━━━━━━\u001b[0m \u001b[32m0.2/2.0 MB\u001b[0m \u001b[31m5.6 MB/s\u001b[0m eta \u001b[36m0:00:01\u001b[0m\r\u001b[2K     \u001b[91m━━━━━━━━━━━━\u001b[0m\u001b[91m╸\u001b[0m\u001b[90m━━━━━━━━━━━━━━━━━━━━━━━━━━━\u001b[0m \u001b[32m0.6/2.0 MB\u001b[0m \u001b[31m9.0 MB/s\u001b[0m eta \u001b[36m0:00:01\u001b[0m\r\u001b[2K     \u001b[91m━━━━━━━━━━━━━━━━━━━━━━\u001b[0m\u001b[91m╸\u001b[0m\u001b[90m━━━━━━━━━━━━━━━━━\u001b[0m \u001b[32m1.1/2.0 MB\u001b[0m \u001b[31m10.6 MB/s\u001b[0m eta \u001b[36m0:00:01\u001b[0m\r\u001b[2K     \u001b[91m━━━━━━━━━━━━━━━━━━━━━━━━━━━━━━━━━━\u001b[0m\u001b[90m╺\u001b[0m\u001b[90m━━━━━\u001b[0m \u001b[32m1.7/2.0 MB\u001b[0m \u001b[31m11.9 MB/s\u001b[0m eta \u001b[36m0:00:01\u001b[0m\r\u001b[2K     \u001b[90m━━━━━━━━━━━━━━━━━━━━━━━━━━━━━━━━━━━━━━━━\u001b[0m \u001b[32m2.0/2.0 MB\u001b[0m \u001b[31m11.1 MB/s\u001b[0m eta \u001b[36m0:00:00\u001b[0m\n",
            "\u001b[?25hRequirement already satisfied: networkx in /usr/local/lib/python3.10/dist-packages (from pgmpy) (3.2.1)\n",
            "Requirement already satisfied: numpy in /usr/local/lib/python3.10/dist-packages (from pgmpy) (1.23.5)\n",
            "Requirement already satisfied: scipy in /usr/local/lib/python3.10/dist-packages (from pgmpy) (1.11.4)\n",
            "Requirement already satisfied: scikit-learn in /usr/local/lib/python3.10/dist-packages (from pgmpy) (1.2.2)\n",
            "Requirement already satisfied: pandas in /usr/local/lib/python3.10/dist-packages (from pgmpy) (1.5.3)\n",
            "Requirement already satisfied: pyparsing in /usr/local/lib/python3.10/dist-packages (from pgmpy) (3.1.1)\n",
            "Requirement already satisfied: torch in /usr/local/lib/python3.10/dist-packages (from pgmpy) (2.1.0+cu121)\n",
            "Requirement already satisfied: statsmodels in /usr/local/lib/python3.10/dist-packages (from pgmpy) (0.14.1)\n",
            "Requirement already satisfied: tqdm in /usr/local/lib/python3.10/dist-packages (from pgmpy) (4.66.1)\n",
            "Requirement already satisfied: joblib in /usr/local/lib/python3.10/dist-packages (from pgmpy) (1.3.2)\n",
            "Requirement already satisfied: opt-einsum in /usr/local/lib/python3.10/dist-packages (from pgmpy) (3.3.0)\n",
            "Requirement already satisfied: python-dateutil>=2.8.1 in /usr/local/lib/python3.10/dist-packages (from pandas->pgmpy) (2.8.2)\n",
            "Requirement already satisfied: pytz>=2020.1 in /usr/local/lib/python3.10/dist-packages (from pandas->pgmpy) (2023.4)\n",
            "Requirement already satisfied: threadpoolctl>=2.0.0 in /usr/local/lib/python3.10/dist-packages (from scikit-learn->pgmpy) (3.2.0)\n",
            "Requirement already satisfied: patsy>=0.5.4 in /usr/local/lib/python3.10/dist-packages (from statsmodels->pgmpy) (0.5.6)\n",
            "Requirement already satisfied: packaging>=21.3 in /usr/local/lib/python3.10/dist-packages (from statsmodels->pgmpy) (23.2)\n",
            "Requirement already satisfied: filelock in /usr/local/lib/python3.10/dist-packages (from torch->pgmpy) (3.13.1)\n",
            "Requirement already satisfied: typing-extensions in /usr/local/lib/python3.10/dist-packages (from torch->pgmpy) (4.9.0)\n",
            "Requirement already satisfied: sympy in /usr/local/lib/python3.10/dist-packages (from torch->pgmpy) (1.12)\n",
            "Requirement already satisfied: jinja2 in /usr/local/lib/python3.10/dist-packages (from torch->pgmpy) (3.1.3)\n",
            "Requirement already satisfied: fsspec in /usr/local/lib/python3.10/dist-packages (from torch->pgmpy) (2023.6.0)\n",
            "Requirement already satisfied: triton==2.1.0 in /usr/local/lib/python3.10/dist-packages (from torch->pgmpy) (2.1.0)\n",
            "Requirement already satisfied: six in /usr/local/lib/python3.10/dist-packages (from patsy>=0.5.4->statsmodels->pgmpy) (1.16.0)\n",
            "Requirement already satisfied: MarkupSafe>=2.0 in /usr/local/lib/python3.10/dist-packages (from jinja2->torch->pgmpy) (2.1.5)\n",
            "Requirement already satisfied: mpmath>=0.19 in /usr/local/lib/python3.10/dist-packages (from sympy->torch->pgmpy) (1.3.0)\n",
            "Installing collected packages: pgmpy\n",
            "Successfully installed pgmpy-0.1.24\n"
          ]
        }
      ]
    },
    {
      "cell_type": "code",
      "source": [
        "from pgmpy.models import BayesianNetwork\n",
        "from pgmpy.factors.discrete import TabularCPD\n",
        "\n",
        "# ベイジアンネットワークのモデルを作成\n",
        "model = BayesianNetwork()\n",
        "\n",
        "# ノードを追加\n",
        "model.add_nodes_from(['W', 'S', 'R', 'G'])\n",
        "\n",
        "# エッジを追加\n",
        "model.add_edges_from([('W', 'S'), ('W', 'R'), ('S', 'G'), ('R', 'G')])\n",
        "\n",
        "# 各ノードの条件付き確率分布を定義(行に変数、列に条件)\n",
        "cpd_w = TabularCPD(variable='W', variable_card=2, values=[[0.5], [0.5]]) #事前確率\n",
        "cpd_s = TabularCPD(variable='S', variable_card=2, values=[[0.9, 0.5], [0.1, 0.5]], evidence=['W'], evidence_card=[2]) #[[P(S=0|W=0), P(S=0|W=1)], [P(S=1|W=0), P(S=1|W=1)]]\n",
        "cpd_r = TabularCPD(variable='R', variable_card=2, values=[[0.2, 0.8], [0.8, 0.2]], evidence=['W'], evidence_card=[2]) #[[P(R=0|W=0), P(R=0|W=1)], [P(R=1|W=0), P(R=1|W=1)]]\n",
        "cpd_g = TabularCPD(variable='G', variable_card=2, values=[[0.99, 0.1, 0.1, 0.01], [0.01, 0.9, 0.9, 0.99]], evidence=['S', 'R'], evidence_card=[2, 2]) #[[P(G=0|S=0, R=0), P(G=0|S=0, R=1), P(G=0|S=1, R=0), P(G=0|S=1, R=1)], [P(G=1|S=0, R=0), P(G=1|S=0, R=1), P(G=1|S=1, R=0), P(G=1|S=1, R=1)]]\n",
        "\n",
        "# モデルに条件付き確率分布を追加\n",
        "model.add_cpds(cpd_w, cpd_s, cpd_r, cpd_g)\n",
        "\n",
        "# モデルの構造とCPDsが有効であるかをチェック\n",
        "assert model.check_model()\n",
        "\n",
        "# ベイジアンネットワークの概要を出力\n",
        "print(model)\n"
      ],
      "metadata": {
        "colab": {
          "base_uri": "https://localhost:8080/"
        },
        "id": "dCe7atw6cOpd",
        "outputId": "1907bd8e-cee1-4f47-f1d3-7237264d4814"
      },
      "execution_count": 14,
      "outputs": [
        {
          "output_type": "stream",
          "name": "stdout",
          "text": [
            "BayesianNetwork with 4 nodes and 4 edges\n"
          ]
        }
      ]
    },
    {
      "cell_type": "code",
      "source": [
        "#P101 (1) P(G = 1 | W = 1)を計算：天気が晴れという条件のもとで、芝が濡れている確率\n",
        "from pgmpy.inference import VariableElimination\n",
        "\n",
        "# 推論エンジンの作成\n",
        "infer = VariableElimination(model)\n",
        "\n",
        "# P(G = 1 | W = 1)を求める\n",
        "result = infer.query(variables=['G'], evidence={'W': 1})\n",
        "print(result)\n",
        "probability_g_given_w_1 = result.values[1]  # G = 1の確率を取得\n",
        "\n",
        "print(\"P(G = 1 | W = 1):\", probability_g_given_w_1)"
      ],
      "metadata": {
        "colab": {
          "base_uri": "https://localhost:8080/"
        },
        "id": "tP3eAMPvoNwr",
        "outputId": "e41e7955-ac76-4317-acb7-fe37d26135d8"
      },
      "execution_count": 17,
      "outputs": [
        {
          "output_type": "stream",
          "name": "stdout",
          "text": [
            "+------+----------+\n",
            "| G    |   phi(G) |\n",
            "+======+==========+\n",
            "| G(0) |   0.4470 |\n",
            "+------+----------+\n",
            "| G(1) |   0.5530 |\n",
            "+------+----------+\n",
            "P(G = 1 | W = 1): 0.553\n"
          ]
        }
      ]
    },
    {
      "cell_type": "code",
      "source": [
        "#P103 (2) P(G = 1 | W = 0)を計算：天気が晴れでない条件のもとで、芝が濡れている確率\n",
        "# P(G = 1 | W = 1)を求める\n",
        "result = infer.query(variables=['G'], evidence={'W': 0})\n",
        "print(result)\n",
        "probability_g_given_w_0 = result.values[1]  # G = 1の確率を取得\n",
        "\n",
        "print(\"P(G = 1 | W = 0):\", probability_g_given_w_0)"
      ],
      "metadata": {
        "colab": {
          "base_uri": "https://localhost:8080/"
        },
        "id": "sGtAzN6RqvtD",
        "outputId": "bd1632cc-5510-4bd0-a42c-671f0ed227ec"
      },
      "execution_count": 19,
      "outputs": [
        {
          "output_type": "stream",
          "name": "stdout",
          "text": [
            "+------+----------+\n",
            "| G    |   phi(G) |\n",
            "+======+==========+\n",
            "| G(0) |   0.2530 |\n",
            "+------+----------+\n",
            "| G(1) |   0.7470 |\n",
            "+------+----------+\n",
            "P(G = 1 | W = 0): 0.747\n"
          ]
        }
      ]
    },
    {
      "cell_type": "code",
      "source": [
        "#P99 確率的推論(事後確率) P(W = 1 | G = 1) 芝が濡れているとき、晴れである確率は？\n",
        "# P(W = 1 | G = 1)を求める\n",
        "result = infer.query(variables=['W'], evidence={'G': 1})\n",
        "\n",
        "probability_w_given_g_1 = result.values[1]  # W = 1の確率を取得\n",
        "\n",
        "print(\"P(W = 1 | G = 1):\", probability_w_given_g_1)"
      ],
      "metadata": {
        "colab": {
          "base_uri": "https://localhost:8080/"
        },
        "id": "zLyGuPWsr39D",
        "outputId": "44b28e85-8772-40f2-c08d-228fc5cc9dce"
      },
      "execution_count": 20,
      "outputs": [
        {
          "output_type": "stream",
          "name": "stdout",
          "text": [
            "P(W = 1 | G = 1): 0.42538461538461536\n"
          ]
        }
      ]
    },
    {
      "cell_type": "markdown",
      "source": [
        "涌井良幸, & 涌井貞美. (2012). 史上最強図解 これならわかる! ベイズ統計学. ナツメ社.  \n",
        "P170 例題2を参照"
      ],
      "metadata": {
        "id": "YJrbKbmV2L33"
      }
    },
    {
      "cell_type": "code",
      "source": [
        "import networkx as nx\n",
        "import matplotlib.pyplot as plt\n",
        "\n",
        "# ベイジアンネットワークの有向グラフを作成\n",
        "G2 = nx.DiGraph()\n",
        "\n",
        "# ノードを追加\n",
        "G2.add_node(\"B\")\n",
        "G2.add_node(\"E\")\n",
        "G2.add_node(\"A\")\n",
        "G2.add_node(\"P\")\n",
        "G2.add_node(\"S\")\n",
        "\n",
        "# エッジを追加\n",
        "G2.add_edge(\"B\", \"A\")\n",
        "G2.add_edge(\"E\", \"A\")\n",
        "G2.add_edge(\"A\", \"P\")\n",
        "G2.add_edge(\"A\", \"S\")\n",
        "\n",
        "# ノードの位置を手動で設定\n",
        "pos = {\"B\": (0.5, 2), \"E\": (1.5, 2), \"A\": (1, 1), \"P\": (0.5, 0), \"S\": (1.5, 0)}\n",
        "\n",
        "# ベイジアンネットワークを描画\n",
        "#pos = nx.spring_layout(G2)  # グラフをレイアウト\n",
        "nx.draw(G2, pos, with_labels=True, node_size=3000, node_color=\"skyblue\", font_size=15, font_weight=\"bold\")  # グラフを描画\n",
        "plt.show()\n"
      ],
      "metadata": {
        "colab": {
          "base_uri": "https://localhost:8080/",
          "height": 516
        },
        "id": "ptwSlu2y3DC6",
        "outputId": "ba420270-fa88-458f-92d5-e8422fc8a9f0"
      },
      "execution_count": 24,
      "outputs": [
        {
          "output_type": "display_data",
          "data": {
            "text/plain": [
              "<Figure size 640x480 with 1 Axes>"
            ],
            "image/png": "[encoded data removed]"
          },
          "metadata": {}
        }
      ]
    },
    {
      "cell_type": "code",
      "source": [
        "from pgmpy.models import BayesianNetwork\n",
        "from pgmpy.factors.discrete import TabularCPD\n",
        "\n",
        "# ベイジアンネットワークのモデルを作成\n",
        "model = BayesianNetwork()\n",
        "\n",
        "# ノードを追加\n",
        "model.add_nodes_from(['B', 'E', 'A', 'P', 'S'])\n",
        "\n",
        "# エッジを追加\n",
        "model.add_edges_from([('B', 'A'), ('E', 'A'), ('A', 'P'), ('A', 'S')])\n",
        "\n",
        "# 各ノードの条件付き確率分布を定義\n",
        "cpd_b = TabularCPD(variable='B', variable_card=2, values=[[0.99], [0.01]])  # Bの事前確率\n",
        "cpd_e = TabularCPD(variable='E', variable_card=2, values=[[0.98], [0.02]])  # Eの事前確率\n",
        "cpd_a = TabularCPD(variable='A', variable_card=2,\n",
        "                   values=[[0.92, 0.74, 0.06, 0.05],  # P(A|B, E)\n",
        "                           [0.08, 0.26, 0.94, 0.95]],\n",
        "                   evidence=['B', 'E'], evidence_card=[2, 2])\n",
        "cpd_p = TabularCPD(variable='P', variable_card=2, values=[[0.5, 0.5], [0.5, 0.5]], evidence=['A'], evidence_card=[2])  # Pの条件付き確率(今回は未設定)\n",
        "cpd_s = TabularCPD(variable='S', variable_card=2, values=[[0.9, 0.3], [0.1, 0.7]], evidence=['A'], evidence_card=[2])  # Sの条件付き確率\n",
        "\n",
        "# モデルに条件付き確率分布を追加\n",
        "model.add_cpds(cpd_b, cpd_e, cpd_a, cpd_p, cpd_s)\n",
        "\n",
        "# モデルの構造とCPDsが有効であるかをチェック\n",
        "assert model.check_model()\n",
        "\n",
        "# ベイジアンネットワークの概要を出力\n",
        "print(model)\n"
      ],
      "metadata": {
        "colab": {
          "base_uri": "https://localhost:8080/"
        },
        "id": "YB2FEO5e4rbw",
        "outputId": "9c52fad8-3935-41a4-c349-ecc03b440a7c"
      },
      "execution_count": 26,
      "outputs": [
        {
          "output_type": "stream",
          "name": "stdout",
          "text": [
            "BayesianNetwork with 5 nodes and 4 edges\n"
          ]
        }
      ]
    },
    {
      "cell_type": "code",
      "source": [
        "#P(B | S) セキュリティ会社に連絡がいったとき、泥棒が入った確率\n",
        "from pgmpy.inference import VariableElimination\n",
        "\n",
        "# 推論エンジンの作成\n",
        "infer = VariableElimination(model)\n",
        "\n",
        "# P(B | S)を求める\n",
        "result = infer.query(variables=['B'], evidence={'S': 1})\n",
        "\n",
        "probability_b_given_s = result.values[1]  # B = 1の確率を取得\n",
        "\n",
        "print(\"P(B = 1 | S = 1):\", probability_b_given_s)"
      ],
      "metadata": {
        "colab": {
          "base_uri": "https://localhost:8080/"
        },
        "id": "eqSVqthE6PWr",
        "outputId": "3d019e72-c46f-4c88-d316-2be44ef70a0e"
      },
      "execution_count": 28,
      "outputs": [
        {
          "output_type": "stream",
          "name": "stdout",
          "text": [
            "P(B = 1 | S = 1): 0.042763793338810904\n"
          ]
        }
      ]
    },
    {
      "cell_type": "markdown",
      "source": [
        "$P(W = s | G = t) \\\\\n",
        "= \\frac{P(G = t | W = s)P(W = s)}{P(G = t)} \\\\\n",
        "= \\frac{P(G = t | W = s)P(W = s)}{P(G = t, W = s) + P(G = t, W \\neq s)} \\\\\n",
        "= \\frac{P(G = t | W = s)P(W = s)}{P(G = t | W = s)P(W = s) + P(G = t | W \\neq s)P(W \\neq s)}$  \n",
        "\n",
        "$P(G = t | W = s)\\\\\n",
        "= \\frac{P(G = t, W = s)}{P(W = s)}\\\\\n",
        "= \\frac{\\sum_{i, j} P(G = t, W = s, S = i, R = j)}{P(W = s)}\\\\\n",
        "= \\frac{\\sum_{i, j} P(G = t | W = s, S = i, R = j)P(W = s, S = i, R = j)}{P(W = s)}\\\\\n",
        "= \\frac{\\sum_{i, j} P(G = t | S = i, R = j)P(S = i, R = j | W = s)P(W = s)}{P(W = s)}\\\\\n",
        "= \\sum_{i, j} P(G = t | S = i, R = j)P(S = i | W = s)P(R = j | W = s)$\n",
        "  \n",
        "同様に、$P(G = t | W \\neq s)$も求める\n",
        "$P(G = t | W \\neq s) = \\sum_{i, j} P(G = t | S = i, R = j)P(S = i | W \\neq s)P(R = j | W \\neq s)$\n",
        "  \n",
        "以下の条件付き独立を使っている.  \n",
        "$P(S, R | W) = P(S|W)P(R|W)\\\\\n",
        "P(G | W, S, R) = P(G | S, R)$\n",
        "  \n",
        "注意：事前確率は$P(W)$しかわかっていない。$P(G)$の事前確率はわからないから、全確率の公式で分解する。"
      ],
      "metadata": {
        "id": "o5qj7uo5wMov"
      }
    },
    {
      "cell_type": "markdown",
      "source": [
        "推論 ： 与えられた観測（Gの値）をもとに、ベイズの定理を利用してWの事後確率分布を計算します。推論の目的は、観測されたデータや事実から、未知の変数の確率分布を推定することです。"
      ],
      "metadata": {
        "id": "Lu4Ty7NP4uUe"
      }
    },
    {
      "cell_type": "code",
      "source": [
        "import numpy as np\n",
        "import pandas as pd\n",
        "from pgmpy.models import BayesianNetwork\n",
        "from pgmpy.estimators import MaximumLikelihoodEstimator, BayesianEstimator\n",
        "from pgmpy.sampling import BayesianModelSampling\n",
        "from pgmpy.estimators import HillClimbSearch\n",
        "from pgmpy.estimators import BicScore\n",
        "import networkx as nx\n",
        "import matplotlib.pyplot as plt\n",
        "\n",
        "# 疑似データ生成関数\n",
        "def generate_data(num_samples=1000):\n",
        "    # ランダムな日毎のトランザクション数\n",
        "    transaction_count = np.random.randint(50, 200, size=num_samples)\n",
        "\n",
        "    # ランダムなDayType (0: weekday, 1: weekend)\n",
        "    day_type = np.random.choice([0, 1], size=num_samples)\n",
        "\n",
        "    # ランダムなDaypartのそれぞれの販売個数/日(Morning, afternoon, evening, nightそれぞれの販売個数)\n",
        "    morning_sales = np.random.randint(20, 100, size=num_samples)\n",
        "\n",
        "    # ランダムなそれぞれのItemでの販売個数/日\n",
        "    item_sales = np.random.randint(5, 50, size=(num_samples, 4))\n",
        "\n",
        "    # 生成したデータをDataFrameに格納\n",
        "    data = pd.DataFrame({\n",
        "        'TransactionCount': transaction_count,\n",
        "        'DayType': day_type,\n",
        "        'MorningSales': morning_sales,\n",
        "        'Item1Sales': item_sales[:, 0],\n",
        "        'Item2Sales': item_sales[:, 1],\n",
        "\n",
        "    })\n",
        "\n",
        "    return data\n",
        "\n",
        "# 疑似データ生成\n",
        "data = generate_data()\n",
        "\n",
        "# 生成したデータの確認\n",
        "print(data.head())\n",
        "\n",
        "# ビンの数\n",
        "num_bins = 3\n",
        "\n",
        "# データをビンに分割\n",
        "binned_data = pd.DataFrame()\n",
        "for column in data.columns:\n",
        "    binned_data[column] = pd.cut(data[column], num_bins, labels=False)\n",
        "\n",
        "# ラベルの割り当て\n",
        "binned_data.columns = [f\"{column}_bin\" for column in binned_data.columns]\n",
        "\n",
        "# 離散化したデータの確認\n",
        "print(binned_data.head())\n",
        "\n",
        "# BicScoreオブジェクトを作成\n",
        "bic = BicScore(binned_data)\n",
        "print('BIC = '.format(bic))\n",
        "\n",
        "# HillClimbSearchを使用してベイジアンネットワークの学習を行う\n",
        "hc = HillClimbSearch(binned_data)\n",
        "best_model = hc.estimate(scoring_method=bic)\n",
        "\n",
        "# 学習したネットワークの可視化\n",
        "print(best_model)\n",
        "print('BIC =', bic.score(best_model))\n",
        "\n",
        "# ベイジアンネットワークを可視化\n",
        "# ベイジアンネットワークの有向グラフを作成\n",
        "G = nx.DiGraph(best_model.edges())\n",
        "\n",
        "# ベイジアンネットワークを描画\n",
        "pos = nx.spring_layout(G)  # グラフをレイアウト\n",
        "nx.draw(G, pos, with_labels=True, node_size=3000, node_color=\"skyblue\", font_size=15, font_weight=\"bold\")  # グラフを描画\n",
        "plt.show()\n"
      ],
      "metadata": {
        "colab": {
          "base_uri": "https://localhost:8080/",
          "height": 941,
          "referenced_widgets": [
            "69147540f47e40838b8f302cf7ba5198",
            "480cb65e7bbd48c8beaee06de2d49459",
            "be1cbd76dd434c079d8c9819d7cbbde0",
            "f0a4c543fafe4bab869ecd4998ff4730",
            "1cbfd945d457473e9281ca14822f05fc",
            "a25203ae627044b198d0c36f538998e3",
            "d52875bc81054f91bf31c946ce1919dc",
            "aab1f683eb6e4ba8b6d44691967b69ee",
            "ac035ab6359d4e9d82f007061a5729db",
            "2dab8a32e7a847bf9c24cdd6807a0afd",
            "49b8607e877e47d1a0738383c975f474"
          ]
        },
        "id": "_plEO4Vcvg9o",
        "outputId": "5cfb3298-4235-42d6-d038-88c274de1372"
      },
      "execution_count": 31,
      "outputs": [
        {
          "output_type": "stream",
          "name": "stdout",
          "text": [
            "   TransactionCount  DayType  MorningSales  Item1Sales  Item2Sales\n",
            "0               102        0            33          19          23\n",
            "1               193        0            36          37          44\n",
            "2               171        0            65          17          16\n",
            "3               189        0            34          38          40\n",
            "4               126        0            84          30          29\n",
            "   TransactionCount_bin  DayType_bin  MorningSales_bin  Item1Sales_bin  \\\n",
            "0                     1            0                 0               0   \n",
            "1                     2            0                 0               2   \n",
            "2                     2            0                 1               0   \n",
            "3                     2            0                 0               2   \n",
            "4                     1            0                 2               1   \n",
            "\n",
            "   Item2Sales_bin  \n",
            "0               1  \n",
            "1               2  \n",
            "2               0  \n",
            "3               2  \n",
            "4               1  \n",
            "BIC = \n"
          ]
        },
        {
          "output_type": "display_data",
          "data": {
            "text/plain": [
              "  0%|          | 0/1000000 [00:00<?, ?it/s]"
            ],
            "application/vnd.jupyter.widget-view+json": {
              "version_major": 2,
              "version_minor": 0,
              "model_id": "69147540f47e40838b8f302cf7ba5198"
            }
          },
          "metadata": {}
        },
        {
          "output_type": "stream",
          "name": "stdout",
          "text": [
            "DAG with 5 nodes and 0 edges\n",
            "BIC = -5111.856671456013\n"
          ]
        },
        {
          "output_type": "display_data",
          "data": {
            "text/plain": [
              "<Figure size 640x480 with 1 Axes>"
            ],
            "image/png": "[encoded data removed]"
          },
          "metadata": {}
        }
      ]
    },
    {
      "cell_type": "code",
      "source": [],
      "metadata": {
        "id": "SHOGLv1q42p-"
      },
      "execution_count": null,
      "outputs": []
    }
  ]
}